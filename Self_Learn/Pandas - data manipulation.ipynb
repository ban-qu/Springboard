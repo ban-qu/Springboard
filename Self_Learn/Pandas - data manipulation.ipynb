{
 "cells": [
  {
   "cell_type": "markdown",
   "id": "d4e820a0",
   "metadata": {},
   "source": [
    "# Pandas"
   ]
  },
  {
   "cell_type": "code",
   "execution_count": 1,
   "id": "480299f9",
   "metadata": {},
   "outputs": [],
   "source": [
    "# .values: A two-dimensional NumPy array of values.\n",
    "# .columns: An index of columns: the column names.\n",
    "# .index: An index for the rows: either row numbers or row names."
   ]
  },
  {
   "cell_type": "code",
   "execution_count": 2,
   "id": "31847524",
   "metadata": {},
   "outputs": [],
   "source": [
    "# .head(): first 5 rows of data\n",
    "# .describe(): basic stas info \n",
    "# .info(): data types of each column\n",
    "# .shape: how many rows, columns\n",
    "# .dtypes: check data types of all columns"
   ]
  },
  {
   "cell_type": "code",
   "execution_count": 3,
   "id": "5dc4e225",
   "metadata": {},
   "outputs": [],
   "source": [
    "# data.sort_values('colname') --> sort values in asc order\n",
    "# data.sort_values('colname', ascending = False) -- > desc order\n",
    "# data.sort_values(['column1', 'column2']) -> sort based on 2 columns\n",
    "# data.sort_values(['column1', 'column2'], ascending = [True, False]) -> sort based on 2 columns, 1st asc and 2nd desc"
   ]
  },
  {
   "cell_type": "code",
   "execution_count": 5,
   "id": "40711ee1",
   "metadata": {},
   "outputs": [],
   "source": [
    "# subset of columns:\n",
    "\n",
    "# data['column1'] - > show 1st column\n",
    "# data[['column1', 'column2']] - > show 1st and 2nd columns"
   ]
  },
  {
   "cell_type": "code",
   "execution_count": 6,
   "id": "ea694120",
   "metadata": {},
   "outputs": [],
   "source": [
    "# conditions to show subset columns:\n",
    "\n",
    "# data[data['column'] > 50] - > show values > 50 in that column\n",
    "# data[data['column'] == 'specifc_name'] - > show specific values"
   ]
  },
  {
   "cell_type": "code",
   "execution_count": 7,
   "id": "1562b515",
   "metadata": {},
   "outputs": [],
   "source": [
    "# multiple conditions:\n",
    "\n",
    "# cond1 = data['colname1'] == 'specific_name1'\n",
    "# cond2 = data['colname2'] == 'specific_name2'\n",
    "# data[cond1 & cond2] -- > show values meet 2 conditions\n",
    "\n",
    "# cond1_cond2 = data['colname'].isin(['spe_name1', 'spe_name2'])\n",
    "# data[cond1_cond2] -- > similar as above, but easier"
   ]
  },
  {
   "cell_type": "code",
   "execution_count": 8,
   "id": "e17e1837",
   "metadata": {},
   "outputs": [],
   "source": [
    "# add new column\n",
    "# data['newcol'] = data['oldcol'] / 100"
   ]
  },
  {
   "cell_type": "code",
   "execution_count": 1,
   "id": "d19e831c",
   "metadata": {},
   "outputs": [],
   "source": [
    "# remove a column\n",
    "# df.drop(columns=['col1','col2'])"
   ]
  },
  {
   "cell_type": "code",
   "execution_count": null,
   "id": "46ba331a",
   "metadata": {},
   "outputs": [],
   "source": [
    "# rename columns\n",
    "# df = df.rename(columns={'oldName1': 'newName1', 'oldName2': 'newName2'})"
   ]
  },
  {
   "cell_type": "code",
   "execution_count": null,
   "id": "d6446746",
   "metadata": {},
   "outputs": [],
   "source": [
    "# df['col'] = pd.to_numeric(df['col']) -> convert data type of col to float"
   ]
  },
  {
   "cell_type": "markdown",
   "id": "d49116f5",
   "metadata": {},
   "source": [
    "## Summary stats\n",
    " ### 1. Numerical data"
   ]
  },
  {
   "cell_type": "code",
   "execution_count": 13,
   "id": "3def4be1",
   "metadata": {},
   "outputs": [],
   "source": [
    "# data['col'].mean() -> mean of that col\n",
    "# .median()\n",
    "# .min()  .max()\n",
    "# .var()  .std()\n",
    "# .sum()\n",
    "#. quantile()\n",
    "# .cumsum() -> cumulative sum of a col, return an entire column"
   ]
  },
  {
   "cell_type": "code",
   "execution_count": 14,
   "id": "27df88cb",
   "metadata": {},
   "outputs": [],
   "source": [
    "# The .agg() method allows you to apply your own custom functions to a DataFrame, \n",
    "# as well as apply functions to more than one column of a DataFrame at once, \n",
    "# data['col'].agg(function)\n",
    "# data[['col1','col2','col3']].agg(function)"
   ]
  },
  {
   "cell_type": "code",
   "execution_count": null,
   "id": "e500076b",
   "metadata": {},
   "outputs": [],
   "source": [
    "# calculate interquartile range\n",
    "# q1 = df.quantile(0.25)\n",
    "# q3 = df.quantile(0.75)\n",
    "# iqr = q3-q1"
   ]
  },
  {
   "cell_type": "markdown",
   "id": "271b8caa",
   "metadata": {},
   "source": [
    "### 2.Categorical data"
   ]
  },
  {
   "cell_type": "code",
   "execution_count": 15,
   "id": "f58c3309",
   "metadata": {},
   "outputs": [],
   "source": [
    "# data.drop_duplicates(subset = 'colname') -> remove duplicated values in a col\n",
    "# data.drop_duplicates(subset = ['col1', 'col2','col3']) -> remove duplicated values in multiple cols\n",
    "# data['col'].value_counts() -> count each ele in col\n",
    "# data['col'].value_counts(sort=True) -> count from largest\n",
    "# data['col'].value_counts(normalize=True) -> count in % of total"
   ]
  },
  {
   "cell_type": "code",
   "execution_count": 16,
   "id": "d23281e3",
   "metadata": {},
   "outputs": [],
   "source": [
    "# group summary stas\n",
    "\n",
    "# data.groupby('col1')['col2'].mean() -> mean weight based on color\n",
    "# data.groupby('col1')['col2'].agg([min,max,sum]) -> show all agg functions"
   ]
  },
  {
   "cell_type": "code",
   "execution_count": 17,
   "id": "54d73841",
   "metadata": {},
   "outputs": [],
   "source": [
    "# pivot table (default is mean value)\n",
    "\n",
    "# data.pivot_table(values='weight',index='color') -> mean of weight by color\n",
    "# data.pivot_table(values='weight',index='color',aggfunc[np.mean,np.median]) -> using aggfunc with numpy\n",
    "\n",
    "# data.pivot_table(values='weight',index='color',columns='bread',fill_value=0) -> 3 columns, filling missing values with 0\n",
    "# data.pivot_table(values='weight',index='color',columns='bread',fill_value=0,margins=True) -> margin: the mean of each row"
   ]
  },
  {
   "cell_type": "code",
   "execution_count": 18,
   "id": "7ba9b563",
   "metadata": {},
   "outputs": [],
   "source": [
    "# set index column\n",
    "# data.set_index('name') -> the 'name' column now becomes index column\n",
    "# data.reset_index() -> reset index column\n",
    "\n",
    "# data.set_index('breed') -> set 'breed' as index\n",
    "# data.loc['labrador'] -> find rows of all labrador using new index\n",
    "# # data.sort_index(level=\"city\") -> Sort by index values at the city level\n",
    "# data.sort_index(level=[\"country\", \"city\"], ascending = [True, False]) -> Sort by country then descending city"
   ]
  },
  {
   "cell_type": "code",
   "execution_count": 19,
   "id": "de3dd7a0",
   "metadata": {},
   "outputs": [],
   "source": [
    "# get date\n",
    "# dataframe[\"column\"].dt.month -> get month from col\n",
    "# dataframe[\"column\"].dt.year - > get year from col"
   ]
  },
  {
   "cell_type": "code",
   "execution_count": 20,
   "id": "fdebcad7",
   "metadata": {},
   "outputs": [],
   "source": [
    "# data.pivot_table(values='avg_temp_c',index=['country','city'],columns='year') -> Make a pivot table of the avg_temp_c column, with country and city as rows, and year as columns."
   ]
  },
  {
   "cell_type": "markdown",
   "id": "4d2a2f35",
   "metadata": {},
   "source": [
    "## Visualizations"
   ]
  },
  {
   "cell_type": "code",
   "execution_count": 21,
   "id": "8cbd78af",
   "metadata": {},
   "outputs": [],
   "source": [
    "import matplotlib.pyplot as plt"
   ]
  },
  {
   "cell_type": "markdown",
   "id": "31b3849c",
   "metadata": {},
   "source": [
    "### 1. Histogram"
   ]
  },
  {
   "cell_type": "code",
   "execution_count": 22,
   "id": "dcc1e50c",
   "metadata": {},
   "outputs": [],
   "source": [
    "# data['col'].hist()  \n",
    "# data['col'].hist(bins=20)   # number of bins\n",
    "# data['col'].hist(alpha=0.7) -> transparency: 0 means transparent"
   ]
  },
  {
   "cell_type": "markdown",
   "id": "797087b7",
   "metadata": {},
   "source": [
    "### 2. Bar plots"
   ]
  },
  {
   "cell_type": "code",
   "execution_count": 24,
   "id": "125a5224",
   "metadata": {},
   "outputs": [],
   "source": [
    "# data.plot(kind='bar')  \n",
    "# data.plot(kind='bar', title='put title here')"
   ]
  },
  {
   "cell_type": "markdown",
   "id": "b73d61c0",
   "metadata": {},
   "source": [
    "### 3. Line plots"
   ]
  },
  {
   "cell_type": "code",
   "execution_count": 25,
   "id": "919d9b98",
   "metadata": {},
   "outputs": [],
   "source": [
    "# data.plot(x='date', y='weight', kind='line')"
   ]
  },
  {
   "cell_type": "markdown",
   "id": "b933d447",
   "metadata": {},
   "source": [
    "### 4. Scatter plots"
   ]
  },
  {
   "cell_type": "code",
   "execution_count": 27,
   "id": "016e29bf",
   "metadata": {},
   "outputs": [],
   "source": [
    "# data.plot(x='height', y='weight', kind='scatter')"
   ]
  },
  {
   "cell_type": "markdown",
   "id": "0bf35731",
   "metadata": {},
   "source": [
    "### Missing values"
   ]
  },
  {
   "cell_type": "code",
   "execution_count": 29,
   "id": "d568db8f",
   "metadata": {},
   "outputs": [],
   "source": [
    "# data.isna()  -> missing values based on every cell\n",
    "# data.isna().any() -> missing values based on each column\n",
    "# data.isna().sum() -> count missing values\n",
    "# data.isna().sum().plot(kind='bar') -> count missing values using a bar plot\n",
    "\n",
    "# data.dropna() -> remove all rows with missing values\n",
    "# data.fillna(0) -> replace missing values with 0"
   ]
  },
  {
   "cell_type": "markdown",
   "id": "484f609b",
   "metadata": {},
   "source": [
    "### CSV and dataframe"
   ]
  },
  {
   "cell_type": "code",
   "execution_count": null,
   "id": "95fb53a1",
   "metadata": {},
   "outputs": [],
   "source": [
    "# pd.read_csv('filename.csv') -> read a csv file\n",
    "# df.to_csv('filename.csv') -> convert dataframe to csv file"
   ]
  }
 ],
 "metadata": {
  "kernelspec": {
   "display_name": "Python 3 (ipykernel)",
   "language": "python",
   "name": "python3"
  },
  "language_info": {
   "codemirror_mode": {
    "name": "ipython",
    "version": 3
   },
   "file_extension": ".py",
   "mimetype": "text/x-python",
   "name": "python",
   "nbconvert_exporter": "python",
   "pygments_lexer": "ipython3",
   "version": "3.10.0"
  }
 },
 "nbformat": 4,
 "nbformat_minor": 5
}
