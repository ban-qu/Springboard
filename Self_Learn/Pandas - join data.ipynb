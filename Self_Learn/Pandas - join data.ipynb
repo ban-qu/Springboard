{
 "cells": [
  {
   "cell_type": "markdown",
   "id": "933a76c3",
   "metadata": {},
   "source": [
    "# Pandas - Join Data"
   ]
  },
  {
   "cell_type": "markdown",
   "id": "68d5d08d",
   "metadata": {},
   "source": [
    "## 1. Inner join - match values in both tables"
   ]
  },
  {
   "cell_type": "code",
   "execution_count": 1,
   "id": "4d22a9e5",
   "metadata": {},
   "outputs": [],
   "source": [
    "# df1.merge(df2, on = 'col')  -> inner join on column\n",
    "# df1.merge(df2, on = 'col', suffixes=('_df1','_df2')) -> rename the columns that have same name"
   ]
  },
  {
   "cell_type": "markdown",
   "id": "d34a159c",
   "metadata": {},
   "source": [
    "## 2. One to many"
   ]
  },
  {
   "cell_type": "code",
   "execution_count": 2,
   "id": "52146a5a",
   "metadata": {},
   "outputs": [],
   "source": [
    "# every row in left table is related to \n",
    "# one or more rows in right table"
   ]
  },
  {
   "cell_type": "markdown",
   "id": "3b92c05e",
   "metadata": {},
   "source": [
    "## 3. Mergeing multiple tables"
   ]
  },
  {
   "cell_type": "code",
   "execution_count": 4,
   "id": "e11da18d",
   "metadata": {},
   "outputs": [],
   "source": [
    "# merge two tables by 2 columns:\n",
    "# df1.merge(df2, on=['col1','col2'])\n",
    "# merge 3 tables:\n",
    "# df1.merge(df2,on=['col1','col2'])\\.merge(df3,on='col3',suffixes=('_sf1','_sf2'))"
   ]
  },
  {
   "cell_type": "markdown",
   "id": "063d33b7",
   "metadata": {},
   "source": [
    "## 4. Left join"
   ]
  },
  {
   "cell_type": "code",
   "execution_count": 6,
   "id": "d1d0c44d",
   "metadata": {},
   "outputs": [],
   "source": [
    "# columns from right attached to left if left has it in common columns"
   ]
  },
  {
   "cell_type": "code",
   "execution_count": 7,
   "id": "d4ea54f2",
   "metadata": {},
   "outputs": [],
   "source": [
    "# d1.merge(df2,on='col',how='left')"
   ]
  },
  {
   "cell_type": "code",
   "execution_count": null,
   "id": "cb236574",
   "metadata": {},
   "outputs": [],
   "source": []
  },
  {
   "cell_type": "code",
   "execution_count": 8,
   "id": "f6c54d54",
   "metadata": {},
   "outputs": [],
   "source": [
    "# df1['col'].isnull().sum() -> count number of missing values in col"
   ]
  },
  {
   "cell_type": "code",
   "execution_count": null,
   "id": "9065ae81",
   "metadata": {},
   "outputs": [],
   "source": []
  },
  {
   "cell_type": "markdown",
   "id": "efae1751",
   "metadata": {},
   "source": [
    "## 5. Other join"
   ]
  },
  {
   "cell_type": "code",
   "execution_count": 9,
   "id": "d1acd9be",
   "metadata": {},
   "outputs": [],
   "source": [
    "# Right Join\n",
    "# columns from right attached to right with common column but differnt names"
   ]
  },
  {
   "cell_type": "code",
   "execution_count": 10,
   "id": "a4bbd3a0",
   "metadata": {},
   "outputs": [],
   "source": [
    "# df1.merge(df2,how='right',left_on='col1',right_on='col2')"
   ]
  },
  {
   "cell_type": "code",
   "execution_count": 11,
   "id": "01ac3661",
   "metadata": {},
   "outputs": [],
   "source": [
    "# Outer Join\n",
    "# combine all columns from both tables"
   ]
  },
  {
   "cell_type": "code",
   "execution_count": 16,
   "id": "5fa8a092",
   "metadata": {},
   "outputs": [],
   "source": [
    "# df1.merge(df2,on='col',how='outer',suffixes=('_left','_right'))"
   ]
  },
  {
   "cell_type": "markdown",
   "id": "cdda787c",
   "metadata": {},
   "source": [
    "## 6. Self join"
   ]
  },
  {
   "cell_type": "code",
   "execution_count": 13,
   "id": "235f72ac",
   "metadata": {},
   "outputs": [],
   "source": [
    "# df.merge(df,left_on='col',right_on='col2',suffixes=('_suf1','_suf2')"
   ]
  },
  {
   "cell_type": "markdown",
   "id": "e6c850d6",
   "metadata": {},
   "source": [
    "## 7. Merge on indexes"
   ]
  },
  {
   "cell_type": "code",
   "execution_count": 14,
   "id": "fd1b842c",
   "metadata": {},
   "outputs": [],
   "source": [
    "# merge on index column(s)\n",
    "# df1.merge(df2,....left_index=True,right_index=True)"
   ]
  },
  {
   "cell_type": "code",
   "execution_count": null,
   "id": "60ec63bb",
   "metadata": {},
   "outputs": [],
   "source": []
  },
  {
   "cell_type": "markdown",
   "id": "fd87ef1b",
   "metadata": {},
   "source": [
    "## Advanced Merge"
   ]
  },
  {
   "cell_type": "markdown",
   "id": "b75507b3",
   "metadata": {},
   "source": [
    "## 1. Semi Join"
   ]
  },
  {
   "cell_type": "code",
   "execution_count": 17,
   "id": "a12c36d2",
   "metadata": {},
   "outputs": [],
   "source": [
    "# inner join, but only columns from left table is shown"
   ]
  },
  {
   "cell_type": "code",
   "execution_count": 18,
   "id": "d5c97f63",
   "metadata": {},
   "outputs": [],
   "source": [
    "# Step 1:\n",
    "# inner_join = df1.merge(df2,on='col')\n",
    "# Step 2:\n",
    "# semi_join = df1[df1['col'].isin(inner_join['col'])]"
   ]
  },
  {
   "cell_type": "markdown",
   "id": "bce8b171",
   "metadata": {},
   "source": [
    "## 2. Anti join"
   ]
  },
  {
   "cell_type": "code",
   "execution_count": 19,
   "id": "bd17a1dc",
   "metadata": {},
   "outputs": [],
   "source": [
    "# left table without interactions\n",
    "# left table columns only"
   ]
  },
  {
   "cell_type": "code",
   "execution_count": 20,
   "id": "4ccafffc",
   "metadata": {},
   "outputs": [],
   "source": [
    "# Step 1:\n",
    "# left_join.merge(df2,on='col',how='left',indicator=True) -> indicator will show how two columns merge\n",
    "# Step 2:\n",
    "# b = left_join.loc[left_join['_merge']=='left only','col']\n",
    "# anti_join = df1[df1['col'].isin(b)]"
   ]
  },
  {
   "cell_type": "markdown",
   "id": "ed9a2741",
   "metadata": {},
   "source": [
    "## 3. Concatenate tables vertically"
   ]
  },
  {
   "cell_type": "code",
   "execution_count": 21,
   "id": "caf748b9",
   "metadata": {},
   "outputs": [],
   "source": [
    "# tables have same column names\n",
    "# pd.concat([df1,df2,df3], ignore_index=True) -> index go from 0 to n-1\n",
    "# pd.concat([df1,df2,df3],keys=['key1','key2','key3']) -> concat based on keys"
   ]
  },
  {
   "cell_type": "code",
   "execution_count": 22,
   "id": "649376af",
   "metadata": {},
   "outputs": [],
   "source": [
    "# table have different columns\n",
    "# pd.concat([df1,df2],sort=True) -> combine based on sort of columns (alphabatically)\n",
    "# pd.concat([df1,df2],join='inner') -> join only same name columns"
   ]
  },
  {
   "cell_type": "code",
   "execution_count": null,
   "id": "c4a84460",
   "metadata": {},
   "outputs": [],
   "source": [
    "# default: join=outer"
   ]
  },
  {
   "cell_type": "code",
   "execution_count": 23,
   "id": "a2d7b2d2",
   "metadata": {},
   "outputs": [],
   "source": [
    "# append method (does not support keys and join)\n",
    "# by default: join=outer\n",
    "# df1.append([df2,df3],ignore_index=True,sort=True)"
   ]
  },
  {
   "cell_type": "markdown",
   "id": "e7a3b659",
   "metadata": {},
   "source": [
    "## Verify the relationship"
   ]
  },
  {
   "cell_type": "code",
   "execution_count": 24,
   "id": "235640db",
   "metadata": {},
   "outputs": [],
   "source": [
    "# to make sure it is correct join relationship"
   ]
  },
  {
   "cell_type": "code",
   "execution_count": 26,
   "id": "7b2008f3",
   "metadata": {},
   "outputs": [],
   "source": [
    "# for merging:\n",
    "# df1.merge(df2,on='col',validate='one_to_one') -> check if one-to-one\n",
    "# df1.merge(df2,on='col',validate='one_to_many') -> check if one-to-many"
   ]
  },
  {
   "cell_type": "code",
   "execution_count": 27,
   "id": "196e6a73",
   "metadata": {},
   "outputs": [],
   "source": [
    "# for concat:\n",
    "# pd.concat([df1,df2],verify_integrity=True) -> error if duplicate occurs"
   ]
  },
  {
   "cell_type": "markdown",
   "id": "148bcd22",
   "metadata": {},
   "source": [
    "## 4. Merge in order"
   ]
  },
  {
   "cell_type": "code",
   "execution_count": null,
   "id": "8c6c2b06",
   "metadata": {},
   "outputs": [],
   "source": [
    "# use when:\n",
    "# 1.ordered data/time series\n",
    "# 2.fill in missing values"
   ]
  },
  {
   "cell_type": "code",
   "execution_count": 28,
   "id": "8697d8d9",
   "metadata": {},
   "outputs": [],
   "source": [
    "# default join is outer (remember the default for merge is inner)"
   ]
  },
  {
   "cell_type": "code",
   "execution_count": 29,
   "id": "75e6e09f",
   "metadata": {},
   "outputs": [],
   "source": [
    "# pd.merge_ordered(df1,df2)"
   ]
  },
  {
   "cell_type": "code",
   "execution_count": 30,
   "id": "9f013ba3",
   "metadata": {},
   "outputs": [],
   "source": [
    "# Foward fill: fill missing values with previous value\n",
    "# ....(.., fill_method='ffill')"
   ]
  },
  {
   "cell_type": "code",
   "execution_count": null,
   "id": "2c3627a8",
   "metadata": {},
   "outputs": [],
   "source": []
  },
  {
   "cell_type": "code",
   "execution_count": 31,
   "id": "60ce13a9",
   "metadata": {},
   "outputs": [],
   "source": [
    "# df.corr() -> show correlation matrix of two variables"
   ]
  },
  {
   "cell_type": "markdown",
   "id": "06636c81",
   "metadata": {},
   "source": [
    "## 5. Merge_asof()"
   ]
  },
  {
   "cell_type": "code",
   "execution_count": null,
   "id": "a77fa609",
   "metadata": {},
   "outputs": [],
   "source": [
    "# when to use:\n",
    "# 1.data sampled from a process\n",
    "# 2.devolep a training set(do not want data lekage)"
   ]
  },
  {
   "cell_type": "code",
   "execution_count": null,
   "id": "d75f785d",
   "metadata": {},
   "outputs": [],
   "source": [
    "# similar to merge_ordered()\n",
    "# but always left join\n",
    "# match the nearest key column, not exact matches"
   ]
  },
  {
   "cell_type": "code",
   "execution_count": 33,
   "id": "74c402c3",
   "metadata": {},
   "outputs": [],
   "source": [
    "# pd.merge_asof(df1,df2,on='col',direction='forward') -> greater than or equal to the nearest key column\n",
    "# pd.merge_asof(df1,df2,on='col') - > default direction is backward: less than\n",
    "# pd.merge_asof(df1,df2,on='col',direction='nearest') -> regardless of less or greater"
   ]
  },
  {
   "cell_type": "markdown",
   "id": "23ef79c0",
   "metadata": {},
   "source": [
    "## 6. .query()method"
   ]
  },
  {
   "cell_type": "code",
   "execution_count": 34,
   "id": "bae77433",
   "metadata": {},
   "outputs": [],
   "source": [
    "# similar to SQL's where clause"
   ]
  },
  {
   "cell_type": "code",
   "execution_count": 35,
   "id": "338d7a39",
   "metadata": {},
   "outputs": [],
   "source": [
    "# df.query('col2 > 90') -> returns all rows where col2 > 90\n",
    "# df.query('col2 > 90 and col1 < 60')\n",
    "# df.query('col1 > 80 or col1 < 90')\n",
    "# df.query('col1==\"abc\" or (col1==\"cba\" and col2 < 80)')"
   ]
  },
  {
   "cell_type": "markdown",
   "id": "444a2c00",
   "metadata": {},
   "source": [
    "## 7. melt() method"
   ]
  },
  {
   "cell_type": "code",
   "execution_count": 36,
   "id": "a5884e44",
   "metadata": {},
   "outputs": [],
   "source": [
    "# change wide table to long table\n",
    "# i.e., some columns become attributes\n",
    "# can re-shape a very wide table\n",
    "# to be more computer-friendly"
   ]
  },
  {
   "cell_type": "code",
   "execution_count": null,
   "id": "d0481dac",
   "metadata": {},
   "outputs": [],
   "source": [
    "# df.melt(id_vars=['col1','col2']) -> columns do not want to change\n",
    "# df.melt(id_vars=['col1','col2'],value_vars=['col3','col4']) -> to contain only col3 and col4 as changed columns\n",
    "\n",
    "# df.melt(id_vars=['col1','col2'],value_vars=['col3','col4'],var_name=['changed_column_name',value_name='value_name']) -> add new column names\n"
   ]
  }
 ],
 "metadata": {
  "kernelspec": {
   "display_name": "Python 3 (ipykernel)",
   "language": "python",
   "name": "python3"
  },
  "language_info": {
   "codemirror_mode": {
    "name": "ipython",
    "version": 3
   },
   "file_extension": ".py",
   "mimetype": "text/x-python",
   "name": "python",
   "nbconvert_exporter": "python",
   "pygments_lexer": "ipython3",
   "version": "3.10.0"
  }
 },
 "nbformat": 4,
 "nbformat_minor": 5
}
