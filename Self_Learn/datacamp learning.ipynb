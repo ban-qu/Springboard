{
 "cells": [
  {
   "cell_type": "code",
   "execution_count": 1,
   "id": "9e6af4d1",
   "metadata": {},
   "outputs": [],
   "source": [
    "a = [1,3,5]\n",
    "b = [1,1,1,1,16]"
   ]
  },
  {
   "cell_type": "code",
   "execution_count": 2,
   "id": "4fd47952",
   "metadata": {},
   "outputs": [
    {
     "data": {
      "text/plain": [
       "[1, 3, 5, 1, 1, 1, 1, 16]"
      ]
     },
     "execution_count": 2,
     "metadata": {},
     "output_type": "execute_result"
    }
   ],
   "source": [
    "a+b"
   ]
  },
  {
   "cell_type": "code",
   "execution_count": 3,
   "id": "604cf30e",
   "metadata": {},
   "outputs": [
    {
     "data": {
      "text/plain": [
       "[1, 3, 5]"
      ]
     },
     "execution_count": 3,
     "metadata": {},
     "output_type": "execute_result"
    }
   ],
   "source": [
    "a"
   ]
  },
  {
   "cell_type": "code",
   "execution_count": 4,
   "id": "757004b8",
   "metadata": {},
   "outputs": [],
   "source": [
    "height = [1.67, 1.75, 1.89, 1.59, 1.63]\n",
    "weight = [56, 72, 88, 50, 49]"
   ]
  },
  {
   "cell_type": "code",
   "execution_count": 5,
   "id": "1ad369ba",
   "metadata": {},
   "outputs": [
    {
     "name": "stdout",
     "output_type": "stream",
     "text": [
      "20.0796\n",
      "23.5102\n",
      "24.6354\n",
      "19.7777\n",
      "18.4425\n"
     ]
    }
   ],
   "source": [
    "for i,j in zip(weight, height):\n",
    "    bmi = i/j**2\n",
    "    print(round(bmi,4))"
   ]
  },
  {
   "cell_type": "code",
   "execution_count": 6,
   "id": "cfad688e",
   "metadata": {},
   "outputs": [],
   "source": [
    "import numpy as np"
   ]
  },
  {
   "cell_type": "code",
   "execution_count": 7,
   "id": "bb39ad3e",
   "metadata": {},
   "outputs": [],
   "source": [
    "height = [1.67, 1.75, 1.89, 1.59, 1.63]\n",
    "weight = [56, 72, 88, 50, 49]"
   ]
  },
  {
   "cell_type": "code",
   "execution_count": 8,
   "id": "7c680666",
   "metadata": {},
   "outputs": [],
   "source": [
    "np_height = np.array(height)\n",
    "np_weight = np.array(weight)"
   ]
  },
  {
   "cell_type": "code",
   "execution_count": 9,
   "id": "d919c39c",
   "metadata": {},
   "outputs": [],
   "source": [
    "np_bmi = np_weight/np_height**2"
   ]
  },
  {
   "cell_type": "code",
   "execution_count": 10,
   "id": "6a0bf6c8",
   "metadata": {},
   "outputs": [
    {
     "data": {
      "text/plain": [
       "array([20.07960128, 23.51020408, 24.63536855, 19.77769867, 18.44254582])"
      ]
     },
     "execution_count": 10,
     "metadata": {},
     "output_type": "execute_result"
    }
   ],
   "source": [
    "np_bmi"
   ]
  },
  {
   "cell_type": "code",
   "execution_count": 11,
   "id": "0db5d1a9",
   "metadata": {},
   "outputs": [
    {
     "data": {
      "text/plain": [
       "array([False,  True,  True, False, False])"
      ]
     },
     "execution_count": 11,
     "metadata": {},
     "output_type": "execute_result"
    }
   ],
   "source": [
    "np_bmi > 23"
   ]
  },
  {
   "cell_type": "code",
   "execution_count": 12,
   "id": "2c1a1a29",
   "metadata": {},
   "outputs": [
    {
     "data": {
      "text/plain": [
       "array([23.51020408, 24.63536855])"
      ]
     },
     "execution_count": 12,
     "metadata": {},
     "output_type": "execute_result"
    }
   ],
   "source": [
    "np_bmi[np_bmi > 23]"
   ]
  },
  {
   "cell_type": "code",
   "execution_count": null,
   "id": "ddc78a34",
   "metadata": {},
   "outputs": [],
   "source": []
  },
  {
   "cell_type": "code",
   "execution_count": 13,
   "id": "346478c6",
   "metadata": {},
   "outputs": [],
   "source": [
    "a = [True, 1, 2]\n",
    "b = [0, False, 2]"
   ]
  },
  {
   "cell_type": "code",
   "execution_count": 17,
   "id": "eafe80a7",
   "metadata": {},
   "outputs": [
    {
     "data": {
      "text/plain": [
       "[1, 1, 4]"
      ]
     },
     "execution_count": 17,
     "metadata": {},
     "output_type": "execute_result"
    }
   ],
   "source": [
    "[i+j for i,j in zip(a,b)]"
   ]
  },
  {
   "cell_type": "code",
   "execution_count": 24,
   "id": "7be6ab91",
   "metadata": {},
   "outputs": [
    {
     "name": "stdout",
     "output_type": "stream",
     "text": [
      "(5,)\n",
      "(5,)\n"
     ]
    }
   ],
   "source": [
    "print(np_bmi.shape)     # 5 rows, no columns\n",
    "print(np_height.shape)  # 5 rows, no columns"
   ]
  },
  {
   "cell_type": "code",
   "execution_count": null,
   "id": "cd145678",
   "metadata": {},
   "outputs": [],
   "source": []
  },
  {
   "cell_type": "code",
   "execution_count": 19,
   "id": "03c5beb8",
   "metadata": {},
   "outputs": [],
   "source": [
    "# list of list in array\n",
    "np_2d = np.array([[1.67, 1.75, 1.89, 1.59, 1.63],\n",
    "                [56, 72, 88, 50, 49]])"
   ]
  },
  {
   "cell_type": "code",
   "execution_count": 20,
   "id": "7242dd02",
   "metadata": {},
   "outputs": [
    {
     "data": {
      "text/plain": [
       "array([[ 1.67,  1.75,  1.89,  1.59,  1.63],\n",
       "       [56.  , 72.  , 88.  , 50.  , 49.  ]])"
      ]
     },
     "execution_count": 20,
     "metadata": {},
     "output_type": "execute_result"
    }
   ],
   "source": [
    "np_2d"
   ]
  },
  {
   "cell_type": "code",
   "execution_count": 21,
   "id": "d2340511",
   "metadata": {},
   "outputs": [
    {
     "data": {
      "text/plain": [
       "(2, 5)"
      ]
     },
     "execution_count": 21,
     "metadata": {},
     "output_type": "execute_result"
    }
   ],
   "source": [
    "np_2d.shape  # 2 rows, 5 columns"
   ]
  },
  {
   "cell_type": "code",
   "execution_count": 25,
   "id": "6fb6684e",
   "metadata": {},
   "outputs": [
    {
     "data": {
      "text/plain": [
       "array([1.67, 1.75, 1.89, 1.59, 1.63])"
      ]
     },
     "execution_count": 25,
     "metadata": {},
     "output_type": "execute_result"
    }
   ],
   "source": [
    "np_2d[0]  # first row"
   ]
  },
  {
   "cell_type": "code",
   "execution_count": 26,
   "id": "99868d70",
   "metadata": {},
   "outputs": [
    {
     "data": {
      "text/plain": [
       "1.75"
      ]
     },
     "execution_count": 26,
     "metadata": {},
     "output_type": "execute_result"
    }
   ],
   "source": [
    "np_2d[0][1]  # first row, 2nd element"
   ]
  },
  {
   "cell_type": "code",
   "execution_count": 27,
   "id": "1bf91715",
   "metadata": {},
   "outputs": [
    {
     "data": {
      "text/plain": [
       "1.75"
      ]
     },
     "execution_count": 27,
     "metadata": {},
     "output_type": "execute_result"
    }
   ],
   "source": [
    "np_2d[0,1]   # first row, 2nd element"
   ]
  },
  {
   "cell_type": "code",
   "execution_count": 28,
   "id": "4f55e767",
   "metadata": {},
   "outputs": [
    {
     "data": {
      "text/plain": [
       "array([[ 1.75,  1.89],\n",
       "       [72.  , 88.  ]])"
      ]
     },
     "execution_count": 28,
     "metadata": {},
     "output_type": "execute_result"
    }
   ],
   "source": [
    "np_2d[:, 1:3]  # all rows, 2nd and 3rd elements"
   ]
  },
  {
   "cell_type": "code",
   "execution_count": 29,
   "id": "320abf14",
   "metadata": {},
   "outputs": [
    {
     "data": {
      "text/plain": [
       "array([56., 72., 88., 50., 49.])"
      ]
     },
     "execution_count": 29,
     "metadata": {},
     "output_type": "execute_result"
    }
   ],
   "source": [
    "np_2d[1, :]  # 2nd row, all columns"
   ]
  },
  {
   "cell_type": "code",
   "execution_count": null,
   "id": "fbe83e05",
   "metadata": {},
   "outputs": [],
   "source": []
  },
  {
   "cell_type": "code",
   "execution_count": 31,
   "id": "6a2beac5",
   "metadata": {},
   "outputs": [],
   "source": [
    "import matplotlib.pyplot as plt"
   ]
  },
  {
   "cell_type": "code",
   "execution_count": 32,
   "id": "5bd2e3a2",
   "metadata": {},
   "outputs": [
    {
     "data": {
      "text/plain": [
       "[<matplotlib.lines.Line2D at 0x11bb4ccd0>]"
      ]
     },
     "execution_count": 32,
     "metadata": {},
     "output_type": "execute_result"
    },
    {
     "data": {
      "image/png": "[encoded data removed]",
      "text/plain": [
       "<Figure size 432x288 with 1 Axes>"
      ]
     },
     "metadata": {
      "needs_background": "light"
     },
     "output_type": "display_data"
    }
   ],
   "source": [
    "year = [1950, 1960, 1990]\n",
    "pop = [2.519, 3.622, 5.264]\n",
    "plt.plot(year, pop)"
   ]
  },
  {
   "cell_type": "code",
   "execution_count": 33,
   "id": "50dd4fc3",
   "metadata": {},
   "outputs": [
    {
     "data": {
      "text/plain": [
       "<matplotlib.collections.PathCollection at 0x11bc367a0>"
      ]
     },
     "execution_count": 33,
     "metadata": {},
     "output_type": "execute_result"
    },
    {
     "data": {
      "image/png": "[encoded data removed]",
      "text/plain": [
       "<Figure size 432x288 with 1 Axes>"
      ]
     },
     "metadata": {
      "needs_background": "light"
     },
     "output_type": "display_data"
    }
   ],
   "source": [
    "plt.scatter(year, pop)"
   ]
  },
  {
   "cell_type": "code",
   "execution_count": null,
   "id": "727c058f",
   "metadata": {},
   "outputs": [],
   "source": []
  },
  {
   "cell_type": "code",
   "execution_count": 38,
   "id": "2a4cf8b2",
   "metadata": {},
   "outputs": [],
   "source": [
    "a = [1,2,4]"
   ]
  },
  {
   "cell_type": "code",
   "execution_count": 37,
   "id": "f6f17f1c",
   "metadata": {},
   "outputs": [
    {
     "data": {
      "text/plain": [
       "[0, 9, 1, 2, 4]"
      ]
     },
     "execution_count": 37,
     "metadata": {},
     "output_type": "execute_result"
    }
   ],
   "source": [
    "[0,9] + a"
   ]
  },
  {
   "cell_type": "code",
   "execution_count": 35,
   "id": "6e789dbd",
   "metadata": {},
   "outputs": [
    {
     "data": {
      "text/plain": [
       "[1, 2, 4, 0, 9]"
      ]
     },
     "execution_count": 35,
     "metadata": {},
     "output_type": "execute_result"
    }
   ],
   "source": [
    "a + [0, 9]"
   ]
  },
  {
   "cell_type": "code",
   "execution_count": 36,
   "id": "d938ffcd",
   "metadata": {},
   "outputs": [
    {
     "data": {
      "text/plain": [
       "[0, 9, 1, 2, 4, 1]"
      ]
     },
     "execution_count": 36,
     "metadata": {},
     "output_type": "execute_result"
    }
   ],
   "source": [
    "[0,9] + a + [1]"
   ]
  },
  {
   "cell_type": "code",
   "execution_count": null,
   "id": "04821ce2",
   "metadata": {},
   "outputs": [],
   "source": []
  },
  {
   "cell_type": "code",
   "execution_count": 40,
   "id": "f6c7a2e9",
   "metadata": {},
   "outputs": [],
   "source": [
    "import pandas as pd"
   ]
  },
  {
   "cell_type": "code",
   "execution_count": 44,
   "id": "f9f94025",
   "metadata": {},
   "outputs": [],
   "source": [
    "dicti = {'country': ['Brazil','Russia','India','China','South Afica'],\n",
    "        'capital': ['Brasilia','Moscow','New Delhi','Beijing','Pretoria'],\n",
    "        'area': [8.516,17.100,3.286,9.597,1.221],\n",
    "        'population':[200.40,143.50,1252.00,1357.00,52.98]}"
   ]
  },
  {
   "cell_type": "code",
   "execution_count": 45,
   "id": "f284c280",
   "metadata": {},
   "outputs": [
    {
     "name": "stdout",
     "output_type": "stream",
     "text": [
      "{'country': ['Brazil', 'Russia', 'India', 'China', 'South Afica'], 'capital': ['Brasilia', 'Moscow', 'New Delhi', 'Beijing', 'Pretoria'], 'area': [8.516, 17.1, 3.286, 9.597, 1.221], 'population': [200.4, 143.5, 1252.0, 1357.0, 52.98]}\n"
     ]
    }
   ],
   "source": [
    "print(dicti)"
   ]
  },
  {
   "cell_type": "code",
   "execution_count": 46,
   "id": "b2fc21d3",
   "metadata": {},
   "outputs": [
    {
     "data": {
      "text/plain": [
       "['Brazil', 'Russia', 'India', 'China', 'South Afica']"
      ]
     },
     "execution_count": 46,
     "metadata": {},
     "output_type": "execute_result"
    }
   ],
   "source": [
    "dicti['country']"
   ]
  },
  {
   "cell_type": "code",
   "execution_count": 47,
   "id": "1c7520a5",
   "metadata": {},
   "outputs": [],
   "source": [
    "brics = pd.DataFrame(dicti)"
   ]
  },
  {
   "cell_type": "code",
   "execution_count": 48,
   "id": "576a338c",
   "metadata": {},
   "outputs": [
    {
     "name": "stdout",
     "output_type": "stream",
     "text": [
      "       country    capital    area  population\n",
      "0       Brazil   Brasilia   8.516      200.40\n",
      "1       Russia     Moscow  17.100      143.50\n",
      "2        India  New Delhi   3.286     1252.00\n",
      "3        China    Beijing   9.597     1357.00\n",
      "4  South Afica   Pretoria   1.221       52.98\n"
     ]
    }
   ],
   "source": [
    "print(brics)"
   ]
  },
  {
   "cell_type": "code",
   "execution_count": 49,
   "id": "a044139e",
   "metadata": {},
   "outputs": [],
   "source": [
    "brics.index = ['BR','RU','IN','CH','SA']"
   ]
  },
  {
   "cell_type": "code",
   "execution_count": 50,
   "id": "3d7d3df1",
   "metadata": {},
   "outputs": [
    {
     "name": "stdout",
     "output_type": "stream",
     "text": [
      "        country    capital    area  population\n",
      "BR       Brazil   Brasilia   8.516      200.40\n",
      "RU       Russia     Moscow  17.100      143.50\n",
      "IN        India  New Delhi   3.286     1252.00\n",
      "CH        China    Beijing   9.597     1357.00\n",
      "SA  South Afica   Pretoria   1.221       52.98\n"
     ]
    }
   ],
   "source": [
    "print(brics)"
   ]
  },
  {
   "cell_type": "code",
   "execution_count": 51,
   "id": "3addc600",
   "metadata": {},
   "outputs": [
    {
     "data": {
      "text/plain": [
       "BR         Brazil\n",
       "RU         Russia\n",
       "IN          India\n",
       "CH          China\n",
       "SA    South Afica\n",
       "Name: country, dtype: object"
      ]
     },
     "execution_count": 51,
     "metadata": {},
     "output_type": "execute_result"
    }
   ],
   "source": [
    "brics['country']"
   ]
  },
  {
   "cell_type": "code",
   "execution_count": 52,
   "id": "f9283adf",
   "metadata": {},
   "outputs": [
    {
     "data": {
      "text/plain": [
       "pandas.core.series.Series"
      ]
     },
     "execution_count": 52,
     "metadata": {},
     "output_type": "execute_result"
    }
   ],
   "source": [
    "type(brics['country'])"
   ]
  },
  {
   "cell_type": "code",
   "execution_count": 53,
   "id": "f3d0430d",
   "metadata": {},
   "outputs": [
    {
     "data": {
      "text/html": [
       "<div>\n",
       "<style scoped>\n",
       "    .dataframe tbody tr th:only-of-type {\n",
       "        vertical-align: middle;\n",
       "    }\n",
       "\n",
       "    .dataframe tbody tr th {\n",
       "        vertical-align: top;\n",
       "    }\n",
       "\n",
       "    .dataframe thead th {\n",
       "        text-align: right;\n",
       "    }\n",
       "</style>\n",
       "<table border=\"1\" class=\"dataframe\">\n",
       "  <thead>\n",
       "    <tr style=\"text-align: right;\">\n",
       "      <th></th>\n",
       "      <th>country</th>\n",
       "    </tr>\n",
       "  </thead>\n",
       "  <tbody>\n",
       "    <tr>\n",
       "      <th>BR</th>\n",
       "      <td>Brazil</td>\n",
       "    </tr>\n",
       "    <tr>\n",
       "      <th>RU</th>\n",
       "      <td>Russia</td>\n",
       "    </tr>\n",
       "    <tr>\n",
       "      <th>IN</th>\n",
       "      <td>India</td>\n",
       "    </tr>\n",
       "    <tr>\n",
       "      <th>CH</th>\n",
       "      <td>China</td>\n",
       "    </tr>\n",
       "    <tr>\n",
       "      <th>SA</th>\n",
       "      <td>South Afica</td>\n",
       "    </tr>\n",
       "  </tbody>\n",
       "</table>\n",
       "</div>"
      ],
      "text/plain": [
       "        country\n",
       "BR       Brazil\n",
       "RU       Russia\n",
       "IN        India\n",
       "CH        China\n",
       "SA  South Afica"
      ]
     },
     "execution_count": 53,
     "metadata": {},
     "output_type": "execute_result"
    }
   ],
   "source": [
    "brics[['country']]  # double brackets to keep as dataframe"
   ]
  },
  {
   "cell_type": "code",
   "execution_count": 54,
   "id": "bd6e3d24",
   "metadata": {},
   "outputs": [
    {
     "data": {
      "text/plain": [
       "pandas.core.frame.DataFrame"
      ]
     },
     "execution_count": 54,
     "metadata": {},
     "output_type": "execute_result"
    }
   ],
   "source": [
    "type(brics[['country']])"
   ]
  },
  {
   "cell_type": "code",
   "execution_count": 55,
   "id": "c0de1804",
   "metadata": {},
   "outputs": [
    {
     "data": {
      "text/html": [
       "<div>\n",
       "<style scoped>\n",
       "    .dataframe tbody tr th:only-of-type {\n",
       "        vertical-align: middle;\n",
       "    }\n",
       "\n",
       "    .dataframe tbody tr th {\n",
       "        vertical-align: top;\n",
       "    }\n",
       "\n",
       "    .dataframe thead th {\n",
       "        text-align: right;\n",
       "    }\n",
       "</style>\n",
       "<table border=\"1\" class=\"dataframe\">\n",
       "  <thead>\n",
       "    <tr style=\"text-align: right;\">\n",
       "      <th></th>\n",
       "      <th>country</th>\n",
       "      <th>capital</th>\n",
       "      <th>area</th>\n",
       "      <th>population</th>\n",
       "    </tr>\n",
       "  </thead>\n",
       "  <tbody>\n",
       "    <tr>\n",
       "      <th>RU</th>\n",
       "      <td>Russia</td>\n",
       "      <td>Moscow</td>\n",
       "      <td>17.100</td>\n",
       "      <td>143.5</td>\n",
       "    </tr>\n",
       "    <tr>\n",
       "      <th>IN</th>\n",
       "      <td>India</td>\n",
       "      <td>New Delhi</td>\n",
       "      <td>3.286</td>\n",
       "      <td>1252.0</td>\n",
       "    </tr>\n",
       "    <tr>\n",
       "      <th>CH</th>\n",
       "      <td>China</td>\n",
       "      <td>Beijing</td>\n",
       "      <td>9.597</td>\n",
       "      <td>1357.0</td>\n",
       "    </tr>\n",
       "  </tbody>\n",
       "</table>\n",
       "</div>"
      ],
      "text/plain": [
       "   country    capital    area  population\n",
       "RU  Russia     Moscow  17.100       143.5\n",
       "IN   India  New Delhi   3.286      1252.0\n",
       "CH   China    Beijing   9.597      1357.0"
      ]
     },
     "execution_count": 55,
     "metadata": {},
     "output_type": "execute_result"
    }
   ],
   "source": [
    "brics[1:4]  # 2nd, 3rd, 4th rows"
   ]
  },
  {
   "cell_type": "code",
   "execution_count": 56,
   "id": "5f70e1ea",
   "metadata": {},
   "outputs": [
    {
     "data": {
      "text/html": [
       "<div>\n",
       "<style scoped>\n",
       "    .dataframe tbody tr th:only-of-type {\n",
       "        vertical-align: middle;\n",
       "    }\n",
       "\n",
       "    .dataframe tbody tr th {\n",
       "        vertical-align: top;\n",
       "    }\n",
       "\n",
       "    .dataframe thead th {\n",
       "        text-align: right;\n",
       "    }\n",
       "</style>\n",
       "<table border=\"1\" class=\"dataframe\">\n",
       "  <thead>\n",
       "    <tr style=\"text-align: right;\">\n",
       "      <th></th>\n",
       "      <th>country</th>\n",
       "      <th>capital</th>\n",
       "      <th>area</th>\n",
       "      <th>population</th>\n",
       "    </tr>\n",
       "  </thead>\n",
       "  <tbody>\n",
       "    <tr>\n",
       "      <th>BR</th>\n",
       "      <td>Brazil</td>\n",
       "      <td>Brasilia</td>\n",
       "      <td>8.516</td>\n",
       "      <td>200.4</td>\n",
       "    </tr>\n",
       "    <tr>\n",
       "      <th>RU</th>\n",
       "      <td>Russia</td>\n",
       "      <td>Moscow</td>\n",
       "      <td>17.100</td>\n",
       "      <td>143.5</td>\n",
       "    </tr>\n",
       "    <tr>\n",
       "      <th>IN</th>\n",
       "      <td>India</td>\n",
       "      <td>New Delhi</td>\n",
       "      <td>3.286</td>\n",
       "      <td>1252.0</td>\n",
       "    </tr>\n",
       "    <tr>\n",
       "      <th>CH</th>\n",
       "      <td>China</td>\n",
       "      <td>Beijing</td>\n",
       "      <td>9.597</td>\n",
       "      <td>1357.0</td>\n",
       "    </tr>\n",
       "  </tbody>\n",
       "</table>\n",
       "</div>"
      ],
      "text/plain": [
       "   country    capital    area  population\n",
       "BR  Brazil   Brasilia   8.516       200.4\n",
       "RU  Russia     Moscow  17.100       143.5\n",
       "IN   India  New Delhi   3.286      1252.0\n",
       "CH   China    Beijing   9.597      1357.0"
      ]
     },
     "execution_count": 56,
     "metadata": {},
     "output_type": "execute_result"
    }
   ],
   "source": [
    "brics[0:4]  # 1st, 2nd, 3rd, 4th rows"
   ]
  },
  {
   "cell_type": "code",
   "execution_count": 59,
   "id": "8cbf7cb9",
   "metadata": {},
   "outputs": [
    {
     "data": {
      "text/html": [
       "<div>\n",
       "<style scoped>\n",
       "    .dataframe tbody tr th:only-of-type {\n",
       "        vertical-align: middle;\n",
       "    }\n",
       "\n",
       "    .dataframe tbody tr th {\n",
       "        vertical-align: top;\n",
       "    }\n",
       "\n",
       "    .dataframe thead th {\n",
       "        text-align: right;\n",
       "    }\n",
       "</style>\n",
       "<table border=\"1\" class=\"dataframe\">\n",
       "  <thead>\n",
       "    <tr style=\"text-align: right;\">\n",
       "      <th></th>\n",
       "      <th>country</th>\n",
       "      <th>capital</th>\n",
       "      <th>area</th>\n",
       "      <th>population</th>\n",
       "    </tr>\n",
       "  </thead>\n",
       "  <tbody>\n",
       "    <tr>\n",
       "      <th>BR</th>\n",
       "      <td>Brazil</td>\n",
       "      <td>Brasilia</td>\n",
       "      <td>8.516</td>\n",
       "      <td>200.4</td>\n",
       "    </tr>\n",
       "  </tbody>\n",
       "</table>\n",
       "</div>"
      ],
      "text/plain": [
       "   country   capital   area  population\n",
       "BR  Brazil  Brasilia  8.516       200.4"
      ]
     },
     "execution_count": 59,
     "metadata": {},
     "output_type": "execute_result"
    }
   ],
   "source": [
    "brics[0:1]   # 1st row"
   ]
  },
  {
   "cell_type": "code",
   "execution_count": 60,
   "id": "7d36b0d8",
   "metadata": {},
   "outputs": [
    {
     "name": "stdout",
     "output_type": "stream",
     "text": [
      "        country    capital    area  population\n",
      "BR       Brazil   Brasilia   8.516      200.40\n",
      "RU       Russia     Moscow  17.100      143.50\n",
      "IN        India  New Delhi   3.286     1252.00\n",
      "CH        China    Beijing   9.597     1357.00\n",
      "SA  South Afica   Pretoria   1.221       52.98\n"
     ]
    }
   ],
   "source": [
    "print(brics)"
   ]
  },
  {
   "cell_type": "code",
   "execution_count": 66,
   "id": "75b41bc8",
   "metadata": {},
   "outputs": [
    {
     "name": "stdout",
     "output_type": "stream",
     "text": [
      "        country    capital    area  population  name_length\n",
      "BR       Brazil   Brasilia   8.516      200.40          6.0\n",
      "RU       Russia     Moscow  17.100      143.50          6.0\n",
      "IN        India  New Delhi   3.286     1252.00          5.0\n",
      "CH        China    Beijing   9.597     1357.00          5.0\n",
      "SA  South Afica   Pretoria   1.221       52.98         11.0\n"
     ]
    }
   ],
   "source": [
    "# add a new column named 'name_length'\n",
    "# as number of letters in 'country' column\n",
    "for lab, row in brics.iterrows():\n",
    "    brics.loc[lab, \"name_length\"] = len(row[\"country\"])\n",
    "print(brics)"
   ]
  },
  {
   "cell_type": "code",
   "execution_count": 69,
   "id": "2691d13e",
   "metadata": {},
   "outputs": [
    {
     "name": "stdout",
     "output_type": "stream",
     "text": [
      "        country    capital    area  population  name_length  name_length2\n",
      "BR       Brazil   Brasilia   8.516      200.40          6.0             6\n",
      "RU       Russia     Moscow  17.100      143.50          6.0             6\n",
      "IN        India  New Delhi   3.286     1252.00          5.0             5\n",
      "CH        China    Beijing   9.597     1357.00          5.0             5\n",
      "SA  South Afica   Pretoria   1.221       52.98         11.0            11\n"
     ]
    }
   ],
   "source": [
    "# OR\n",
    "brics['name_length2'] = brics['country'].apply(len)\n",
    "print(brics)"
   ]
  },
  {
   "cell_type": "code",
   "execution_count": null,
   "id": "665604e1",
   "metadata": {},
   "outputs": [],
   "source": []
  },
  {
   "cell_type": "code",
   "execution_count": 70,
   "id": "a8d6dcec",
   "metadata": {},
   "outputs": [
    {
     "data": {
      "text/plain": [
       "0.6964691855978616"
      ]
     },
     "execution_count": 70,
     "metadata": {},
     "output_type": "execute_result"
    }
   ],
   "source": [
    "# generate random numbers with same seeds\n",
    "np.random.seed(123)\n",
    "np.random.rand()"
   ]
  },
  {
   "cell_type": "code",
   "execution_count": 75,
   "id": "1ab685e3",
   "metadata": {},
   "outputs": [
    {
     "data": {
      "text/plain": [
       "0.6964691855978616"
      ]
     },
     "execution_count": 75,
     "metadata": {},
     "output_type": "execute_result"
    }
   ],
   "source": [
    "np.random.seed(123)\n",
    "np.random.rand()"
   ]
  },
  {
   "cell_type": "code",
   "execution_count": null,
   "id": "7f85c69e",
   "metadata": {},
   "outputs": [],
   "source": []
  },
  {
   "cell_type": "code",
   "execution_count": 77,
   "id": "ff107d4d",
   "metadata": {},
   "outputs": [
    {
     "name": "stdout",
     "output_type": "stream",
     "text": [
      "0\n",
      "heads\n"
     ]
    }
   ],
   "source": [
    "np.random.seed(321)\n",
    "coin = np.random.randint(0,2) # 0 or 1 (2 is excluded)\n",
    "print(coin)\n",
    "\n",
    "if coin == 0:\n",
    "    print('heads')\n",
    "else:\n",
    "    print('tails')"
   ]
  },
  {
   "cell_type": "code",
   "execution_count": 96,
   "id": "5a453245",
   "metadata": {},
   "outputs": [
    {
     "data": {
      "text/plain": [
       "2"
      ]
     },
     "execution_count": 96,
     "metadata": {},
     "output_type": "execute_result"
    }
   ],
   "source": [
    "np.random.randint(5)"
   ]
  },
  {
   "cell_type": "code",
   "execution_count": 97,
   "id": "8d73c9c3",
   "metadata": {},
   "outputs": [
    {
     "data": {
      "text/plain": [
       "array([0.6079745 , 0.60286329, 0.4262755 ])"
      ]
     },
     "execution_count": 97,
     "metadata": {},
     "output_type": "execute_result"
    }
   ],
   "source": [
    "np.random.rand(3)"
   ]
  },
  {
   "cell_type": "code",
   "execution_count": null,
   "id": "80fbe79e",
   "metadata": {},
   "outputs": [],
   "source": []
  },
  {
   "cell_type": "code",
   "execution_count": 98,
   "id": "62231c5a",
   "metadata": {},
   "outputs": [
    {
     "data": {
      "text/plain": [
       "range(0, 10)"
      ]
     },
     "execution_count": 98,
     "metadata": {},
     "output_type": "execute_result"
    }
   ],
   "source": [
    "range(10)  "
   ]
  },
  {
   "cell_type": "code",
   "execution_count": 100,
   "id": "677f124a",
   "metadata": {},
   "outputs": [
    {
     "data": {
      "text/plain": [
       "True"
      ]
     },
     "execution_count": 100,
     "metadata": {},
     "output_type": "execute_result"
    }
   ],
   "source": [
    "range(10) == range(0,10)"
   ]
  },
  {
   "cell_type": "code",
   "execution_count": null,
   "id": "5bd85069",
   "metadata": {},
   "outputs": [],
   "source": []
  },
  {
   "cell_type": "code",
   "execution_count": 129,
   "id": "44ebefda",
   "metadata": {},
   "outputs": [
    {
     "name": "stdout",
     "output_type": "stream",
     "text": [
      "['heads', 'heads', 'heads', 'heads', 'heads', 'tails', 'tails', 'heads', 'heads', 'heads']\n",
      "\n",
      "\n",
      "Heads: 8 times\n",
      "Tails: 2 times\n"
     ]
    }
   ],
   "source": [
    "# print a dice 10 times for outcomes\n",
    "np.random.seed(111)\n",
    "outcomes = []\n",
    "for x in range(0, 10):\n",
    "    coin = np.random.randint(0,2)\n",
    "    if coin == 0:\n",
    "        outcomes.append('heads')\n",
    "    else:\n",
    "        outcomes.append('tails')\n",
    "    num_heads = outcomes.count('heads')\n",
    "    num_tails = outcomes.count('tails')\n",
    "print(outcomes)\n",
    "print('\\n')\n",
    "print('Heads: ' + str(num_heads) + ' times')\n",
    "print('Tails: ' + str(num_tails) + ' times')"
   ]
  },
  {
   "cell_type": "code",
   "execution_count": 138,
   "id": "2eb4612a",
   "metadata": {},
   "outputs": [
    {
     "data": {
      "text/plain": [
       "8"
      ]
     },
     "execution_count": 138,
     "metadata": {},
     "output_type": "execute_result"
    }
   ],
   "source": [
    "a = [3,1,5,6,7,7,7,7]\n",
    "len(a)"
   ]
  },
  {
   "cell_type": "code",
   "execution_count": 139,
   "id": "6e4a567a",
   "metadata": {},
   "outputs": [
    {
     "data": {
      "text/plain": [
       "4"
      ]
     },
     "execution_count": 139,
     "metadata": {},
     "output_type": "execute_result"
    }
   ],
   "source": [
    "a.count(7)"
   ]
  },
  {
   "cell_type": "code",
   "execution_count": 142,
   "id": "b5f7da0d",
   "metadata": {},
   "outputs": [
    {
     "data": {
      "text/plain": [
       "0"
      ]
     },
     "execution_count": 142,
     "metadata": {},
     "output_type": "execute_result"
    }
   ],
   "source": [
    "a.count(i for i in a if i>1)"
   ]
  },
  {
   "cell_type": "code",
   "execution_count": 133,
   "id": "252f3a4e",
   "metadata": {},
   "outputs": [
    {
     "data": {
      "text/plain": [
       "10"
      ]
     },
     "execution_count": 133,
     "metadata": {},
     "output_type": "execute_result"
    }
   ],
   "source": [
    "max(10, 8, 9)"
   ]
  },
  {
   "cell_type": "code",
   "execution_count": 131,
   "id": "75b27020",
   "metadata": {},
   "outputs": [
    {
     "data": {
      "text/plain": [
       "'yellow'"
      ]
     },
     "execution_count": 131,
     "metadata": {},
     "output_type": "execute_result"
    }
   ],
   "source": [
    "max('yellow', 'hi')"
   ]
  },
  {
   "cell_type": "code",
   "execution_count": null,
   "id": "10c38e00",
   "metadata": {},
   "outputs": [],
   "source": []
  },
  {
   "cell_type": "markdown",
   "id": "209e36db",
   "metadata": {},
   "source": [
    "# Container sequences (list, set, tuple)"
   ]
  },
  {
   "cell_type": "code",
   "execution_count": 144,
   "id": "883ae4b5",
   "metadata": {},
   "outputs": [
    {
     "name": "stdout",
     "output_type": "stream",
     "text": [
      "[4, 1, 5, 6, 7, 7, 7, 7]\n"
     ]
    }
   ],
   "source": [
    "a = [4,1,5,6]\n",
    "b = [7,7,7,7]\n",
    "\n",
    "a.extend(b)\n",
    "print(a)"
   ]
  },
  {
   "cell_type": "code",
   "execution_count": 145,
   "id": "a5d6b49e",
   "metadata": {},
   "outputs": [
    {
     "name": "stdout",
     "output_type": "stream",
     "text": [
      "4\n"
     ]
    }
   ],
   "source": [
    "remo = a.pop(0)\n",
    "print(remo)"
   ]
  },
  {
   "cell_type": "code",
   "execution_count": 150,
   "id": "8a489c00",
   "metadata": {},
   "outputs": [
    {
     "name": "stdout",
     "output_type": "stream",
     "text": [
      "a\n",
      "['b', 'c']\n"
     ]
    }
   ],
   "source": [
    "c = ['a', 'b', 'c']\n",
    "rem = c.pop(0)\n",
    "print(rem)\n",
    "print(c)"
   ]
  },
  {
   "cell_type": "code",
   "execution_count": 148,
   "id": "33c930d3",
   "metadata": {},
   "outputs": [
    {
     "data": {
      "text/plain": [
       "0"
      ]
     },
     "execution_count": 148,
     "metadata": {},
     "output_type": "execute_result"
    }
   ],
   "source": [
    "c.index('b')"
   ]
  },
  {
   "cell_type": "code",
   "execution_count": null,
   "id": "23a5d51d",
   "metadata": {},
   "outputs": [],
   "source": []
  },
  {
   "cell_type": "code",
   "execution_count": 152,
   "id": "f83801b7",
   "metadata": {},
   "outputs": [
    {
     "data": {
      "text/plain": [
       "[1, 5, 6, 7, 7, 7, 7]"
      ]
     },
     "execution_count": 152,
     "metadata": {},
     "output_type": "execute_result"
    }
   ],
   "source": [
    "sorted(a)"
   ]
  },
  {
   "cell_type": "code",
   "execution_count": null,
   "id": "11c85aa4",
   "metadata": {},
   "outputs": [],
   "source": []
  },
  {
   "cell_type": "markdown",
   "id": "a95de1d1",
   "metadata": {},
   "source": [
    "# Tuples - immutable, ordered"
   ]
  },
  {
   "cell_type": "code",
   "execution_count": 156,
   "id": "ba1e5e8a",
   "metadata": {},
   "outputs": [
    {
     "name": "stdout",
     "output_type": "stream",
     "text": [
      "[('bana', 'cake'), ('appl', 'rice'), ('straw', 'cookie')]\n"
     ]
    }
   ],
   "source": [
    "# most commonly used by zip lists together\n",
    "us = ['bana','appl','straw']\n",
    "ind = ['cake','rice','cookie']\n",
    "\n",
    "two = list(zip(us, ind)) \n",
    "print(two)"
   ]
  },
  {
   "cell_type": "code",
   "execution_count": 157,
   "id": "c069da68",
   "metadata": {},
   "outputs": [
    {
     "name": "stdout",
     "output_type": "stream",
     "text": [
      "bana\n",
      "cake\n"
     ]
    }
   ],
   "source": [
    "# unpacking individuals\n",
    "us, ind = two[0]\n",
    "print(us)\n",
    "print(ind)"
   ]
  },
  {
   "cell_type": "code",
   "execution_count": 158,
   "id": "d232e283",
   "metadata": {},
   "outputs": [
    {
     "name": "stdout",
     "output_type": "stream",
     "text": [
      "bana\n",
      "cake\n",
      "appl\n",
      "rice\n",
      "straw\n",
      "cookie\n"
     ]
    }
   ],
   "source": [
    "# unpacking in loops\n",
    "for us, ind in two:\n",
    "    print(us)\n",
    "    print(ind)"
   ]
  },
  {
   "cell_type": "code",
   "execution_count": 159,
   "id": "ec75f11c",
   "metadata": {},
   "outputs": [
    {
     "name": "stdout",
     "output_type": "stream",
     "text": [
      "0 bana cake\n",
      "1 appl rice\n",
      "2 straw cookie\n"
     ]
    }
   ],
   "source": [
    "# enumerating positions\n",
    "for idx, item in enumerate(two):\n",
    "    us, ind = item\n",
    "    print(idx, us, ind)"
   ]
  },
  {
   "cell_type": "code",
   "execution_count": null,
   "id": "d4c598a1",
   "metadata": {},
   "outputs": [],
   "source": []
  },
  {
   "cell_type": "markdown",
   "id": "f65c682f",
   "metadata": {},
   "source": [
    "# Sets - unique, unordered"
   ]
  },
  {
   "cell_type": "code",
   "execution_count": 160,
   "id": "f3776de9",
   "metadata": {},
   "outputs": [
    {
     "name": "stdout",
     "output_type": "stream",
     "text": [
      "[1, 5, 6, 7, 7, 7, 7]\n"
     ]
    }
   ],
   "source": [
    "print(a)"
   ]
  },
  {
   "cell_type": "code",
   "execution_count": 162,
   "id": "a3b6f642",
   "metadata": {},
   "outputs": [
    {
     "name": "stdout",
     "output_type": "stream",
     "text": [
      "{1, 5, 6, 7}\n"
     ]
    }
   ],
   "source": [
    "# create a set from a list\n",
    "new_a = set(a)\n",
    "print(new_a)"
   ]
  },
  {
   "cell_type": "code",
   "execution_count": 163,
   "id": "79eefa7b",
   "metadata": {},
   "outputs": [
    {
     "data": {
      "text/plain": [
       "set"
      ]
     },
     "execution_count": 163,
     "metadata": {},
     "output_type": "execute_result"
    }
   ],
   "source": [
    "type(new_a)"
   ]
  },
  {
   "cell_type": "code",
   "execution_count": 164,
   "id": "91bdfe70",
   "metadata": {},
   "outputs": [
    {
     "name": "stdout",
     "output_type": "stream",
     "text": [
      "{1, 5, 6, 7, 'no'}\n"
     ]
    }
   ],
   "source": [
    "# add a single ele to set\n",
    "new_a.add('no')\n",
    "print(new_a)"
   ]
  },
  {
   "cell_type": "code",
   "execution_count": 165,
   "id": "39cf20e4",
   "metadata": {},
   "outputs": [
    {
     "name": "stdout",
     "output_type": "stream",
     "text": [
      "{1, 5, 6, 7, 78, 'no', 'ho'}\n"
     ]
    }
   ],
   "source": [
    "# update the set with a new list\n",
    "new_b = [78, 'ho']\n",
    "new_a.update(new_b)\n",
    "print(new_a)"
   ]
  },
  {
   "cell_type": "code",
   "execution_count": 167,
   "id": "7cf2a357",
   "metadata": {},
   "outputs": [
    {
     "name": "stdout",
     "output_type": "stream",
     "text": [
      "{1, 5, 6, 7, 78, 'no'}\n"
     ]
    }
   ],
   "source": [
    "# remove a singel value: .discard()\n",
    "new_a.discard('ho')\n",
    "print(new_a)"
   ]
  },
  {
   "cell_type": "code",
   "execution_count": 168,
   "id": "f1ff742d",
   "metadata": {},
   "outputs": [
    {
     "name": "stdout",
     "output_type": "stream",
     "text": [
      "{5, 6, 7, 78, 'no'}\n"
     ]
    }
   ],
   "source": [
    "# remove a random value: .pop()\n",
    "new_a.pop()\n",
    "print(new_a)"
   ]
  },
  {
   "cell_type": "code",
   "execution_count": 169,
   "id": "ced09d85",
   "metadata": {},
   "outputs": [
    {
     "data": {
      "text/plain": [
       "{100, 5, 6, 7, 78, 99, 'app', 'no'}"
      ]
     },
     "execution_count": 169,
     "metadata": {},
     "output_type": "execute_result"
    }
   ],
   "source": [
    "# combine two sets: .union()\n",
    "c = set([99, 100, 'app'])\n",
    "new_a.union(c)"
   ]
  },
  {
   "cell_type": "code",
   "execution_count": 170,
   "id": "cbded2bf",
   "metadata": {},
   "outputs": [
    {
     "data": {
      "text/plain": [
       "{5, 'no'}"
      ]
     },
     "execution_count": 170,
     "metadata": {},
     "output_type": "execute_result"
    }
   ],
   "source": [
    "# find overlapping values: .intersection()\n",
    "d = set([5, 66, 89, 'no'])\n",
    "new_a.intersection(d)"
   ]
  },
  {
   "cell_type": "code",
   "execution_count": 172,
   "id": "eac8fd5b",
   "metadata": {},
   "outputs": [
    {
     "name": "stdout",
     "output_type": "stream",
     "text": [
      "{78, 6, 7}\n",
      "{89, 66}\n"
     ]
    }
   ],
   "source": [
    "# find difference btw 2 sets\n",
    "print(new_a.difference(d))  # new_a has and d not\n",
    "print(d.difference(new_a))  # d has and new_a not"
   ]
  },
  {
   "cell_type": "code",
   "execution_count": null,
   "id": "91e17149",
   "metadata": {},
   "outputs": [],
   "source": []
  },
  {
   "cell_type": "markdown",
   "id": "6819bc28",
   "metadata": {},
   "source": [
    "# Dictionary"
   ]
  },
  {
   "cell_type": "code",
   "execution_count": 174,
   "id": "2c2f18ee",
   "metadata": {},
   "outputs": [],
   "source": [
    "dic1 = {'name': 'joe', 'age': 43, 'job': 'teacher'}"
   ]
  },
  {
   "cell_type": "code",
   "execution_count": 178,
   "id": "d334cff5",
   "metadata": {},
   "outputs": [
    {
     "data": {
      "text/plain": [
       "'joe'"
      ]
     },
     "execution_count": 178,
     "metadata": {},
     "output_type": "execute_result"
    }
   ],
   "source": [
    "# get value of a key\n",
    "dic1.get('name') "
   ]
  },
  {
   "cell_type": "code",
   "execution_count": 185,
   "id": "16fefead",
   "metadata": {},
   "outputs": [
    {
     "data": {
      "text/plain": [
       "'Not Found'"
      ]
     },
     "execution_count": 185,
     "metadata": {},
     "output_type": "execute_result"
    }
   ],
   "source": [
    "# access a key without error: .get()\n",
    "dic1.get('gender', 'Not Found')  "
   ]
  },
  {
   "cell_type": "code",
   "execution_count": 195,
   "id": "e34e1368",
   "metadata": {},
   "outputs": [
    {
     "data": {
      "text/plain": [
       "dict_keys(['name', 'age', 'job'])"
      ]
     },
     "execution_count": 195,
     "metadata": {},
     "output_type": "execute_result"
    }
   ],
   "source": [
    "# show all keys\n",
    "dic1.keys()"
   ]
  },
  {
   "cell_type": "code",
   "execution_count": 196,
   "id": "afa513d7",
   "metadata": {},
   "outputs": [
    {
     "data": {
      "text/plain": [
       "dict_values(['joe', 43, 'teacher'])"
      ]
     },
     "execution_count": 196,
     "metadata": {},
     "output_type": "execute_result"
    }
   ],
   "source": [
    "# show all values\n",
    "dic1.values()"
   ]
  },
  {
   "cell_type": "code",
   "execution_count": 197,
   "id": "4a25bf50",
   "metadata": {},
   "outputs": [
    {
     "name": "stdout",
     "output_type": "stream",
     "text": [
      "name\n",
      "joe\n",
      "age\n",
      "43\n",
      "job\n",
      "teacher\n"
     ]
    }
   ],
   "source": [
    "# get all keys or values\n",
    "for i,j in dic1.items():\n",
    "    print(i)\n",
    "    print(j)"
   ]
  },
  {
   "cell_type": "code",
   "execution_count": 198,
   "id": "bd5a973b",
   "metadata": {},
   "outputs": [
    {
     "name": "stdout",
     "output_type": "stream",
     "text": [
      "teacher\n"
     ]
    }
   ],
   "source": [
    "print(dic1['job']) "
   ]
  },
  {
   "cell_type": "code",
   "execution_count": null,
   "id": "d3c66e86",
   "metadata": {},
   "outputs": [],
   "source": []
  },
  {
   "cell_type": "code",
   "execution_count": 203,
   "id": "5a3d1f69",
   "metadata": {},
   "outputs": [
    {
     "name": "stdout",
     "output_type": "stream",
     "text": [
      "{'name': 'joe', 'age': 43, 'job': 'teacher'}\n"
     ]
    }
   ],
   "source": [
    "print(dic1)"
   ]
  },
  {
   "cell_type": "code",
   "execution_count": 207,
   "id": "419312a8",
   "metadata": {},
   "outputs": [
    {
     "name": "stdout",
     "output_type": "stream",
     "text": [
      "{'age': 43, 'job': 'teacher'}\n"
     ]
    }
   ],
   "source": [
    "# delete a key/value: del\n",
    "del dic1['name']  \n",
    "print(dic1)"
   ]
  },
  {
   "cell_type": "code",
   "execution_count": 208,
   "id": "71c1ecc8",
   "metadata": {},
   "outputs": [
    {
     "name": "stdout",
     "output_type": "stream",
     "text": [
      "teacher\n"
     ]
    }
   ],
   "source": [
    "# remove a key/value: .pop()\n",
    "deletemore = dic1.pop('job')\n",
    "print(deletemore)"
   ]
  },
  {
   "cell_type": "code",
   "execution_count": 209,
   "id": "9f0c20c8",
   "metadata": {},
   "outputs": [
    {
     "name": "stdout",
     "output_type": "stream",
     "text": [
      "{'age': 43}\n"
     ]
    }
   ],
   "source": [
    "print(dic1)"
   ]
  },
  {
   "cell_type": "code",
   "execution_count": null,
   "id": "3868ac9f",
   "metadata": {},
   "outputs": [],
   "source": []
  },
  {
   "cell_type": "code",
   "execution_count": 212,
   "id": "5ac834c4",
   "metadata": {},
   "outputs": [],
   "source": [
    "from collections import namedtuple"
   ]
  },
  {
   "cell_type": "code",
   "execution_count": 218,
   "id": "53b145f4",
   "metadata": {},
   "outputs": [
    {
     "data": {
      "text/plain": [
       "Point(x=2, y=4)"
      ]
     },
     "execution_count": 218,
     "metadata": {},
     "output_type": "execute_result"
    }
   ],
   "source": [
    "# namedtuple: can access values using field names and dot\n",
    "Point = namedtuple('Point', 'x y')\n",
    "\n",
    "point = Point(2, 4)\n",
    "point"
   ]
  },
  {
   "cell_type": "code",
   "execution_count": 219,
   "id": "d003ba17",
   "metadata": {},
   "outputs": [
    {
     "data": {
      "text/plain": [
       "2"
      ]
     },
     "execution_count": 219,
     "metadata": {},
     "output_type": "execute_result"
    }
   ],
   "source": [
    "point.x"
   ]
  },
  {
   "cell_type": "code",
   "execution_count": 220,
   "id": "19bde722",
   "metadata": {},
   "outputs": [
    {
     "data": {
      "text/plain": [
       "4"
      ]
     },
     "execution_count": 220,
     "metadata": {},
     "output_type": "execute_result"
    }
   ],
   "source": [
    "point.y"
   ]
  },
  {
   "cell_type": "code",
   "execution_count": 221,
   "id": "8a1ee475",
   "metadata": {},
   "outputs": [
    {
     "data": {
      "text/plain": [
       "2"
      ]
     },
     "execution_count": 221,
     "metadata": {},
     "output_type": "execute_result"
    }
   ],
   "source": [
    "point[0]"
   ]
  },
  {
   "cell_type": "code",
   "execution_count": 222,
   "id": "b1dc9bde",
   "metadata": {},
   "outputs": [
    {
     "data": {
      "text/plain": [
       "4"
      ]
     },
     "execution_count": 222,
     "metadata": {},
     "output_type": "execute_result"
    }
   ],
   "source": [
    "point[1]"
   ]
  },
  {
   "cell_type": "code",
   "execution_count": null,
   "id": "b00758c4",
   "metadata": {},
   "outputs": [],
   "source": []
  },
  {
   "cell_type": "code",
   "execution_count": 223,
   "id": "9c1856e5",
   "metadata": {},
   "outputs": [
    {
     "data": {
      "text/plain": [
       "p(x=2, y=5, z=6)"
      ]
     },
     "execution_count": 223,
     "metadata": {},
     "output_type": "execute_result"
    }
   ],
   "source": [
    "a = namedtuple('p', 'x y z')\n",
    "b = a(2,5,6)\n",
    "b"
   ]
  },
  {
   "cell_type": "code",
   "execution_count": 226,
   "id": "f58e5a40",
   "metadata": {},
   "outputs": [
    {
     "name": "stdout",
     "output_type": "stream",
     "text": [
      "2\n",
      "5\n",
      "6\n"
     ]
    }
   ],
   "source": [
    "print(b.x)\n",
    "print(b.y)\n",
    "print(b.z)"
   ]
  },
  {
   "cell_type": "code",
   "execution_count": 227,
   "id": "9fccc01c",
   "metadata": {},
   "outputs": [
    {
     "data": {
      "text/plain": [
       "Name(parent='Leo', children=['Jason', 'Yi'])"
      ]
     },
     "execution_count": 227,
     "metadata": {},
     "output_type": "execute_result"
    }
   ],
   "source": [
    "# you can modify values in tuple\n",
    "# tuple is immutable, but values may not\n",
    "Person = namedtuple('Name', 'parent children')\n",
    "john = Person('Leo', ['Jason', 'Yi'])\n",
    "john"
   ]
  },
  {
   "cell_type": "code",
   "execution_count": 230,
   "id": "466a9918",
   "metadata": {},
   "outputs": [
    {
     "name": "stdout",
     "output_type": "stream",
     "text": [
      "Leo\n",
      "['Jason', 'Yi']\n"
     ]
    }
   ],
   "source": [
    "print(john.parent)\n",
    "print(john.children)"
   ]
  },
  {
   "cell_type": "code",
   "execution_count": 231,
   "id": "731c9595",
   "metadata": {},
   "outputs": [
    {
     "data": {
      "text/plain": [
       "'Jason'"
      ]
     },
     "execution_count": 231,
     "metadata": {},
     "output_type": "execute_result"
    }
   ],
   "source": [
    "john.children[0]"
   ]
  },
  {
   "cell_type": "code",
   "execution_count": 232,
   "id": "1c58003a",
   "metadata": {},
   "outputs": [
    {
     "data": {
      "text/plain": [
       "Name(parent='Leo', children=['Jason', 'Yi', 'Nina'])"
      ]
     },
     "execution_count": 232,
     "metadata": {},
     "output_type": "execute_result"
    }
   ],
   "source": [
    "john.children.append('Nina')\n",
    "john"
   ]
  },
  {
   "cell_type": "code",
   "execution_count": null,
   "id": "acb0be39",
   "metadata": {},
   "outputs": [],
   "source": []
  },
  {
   "cell_type": "code",
   "execution_count": 247,
   "id": "5d31b004",
   "metadata": {},
   "outputs": [],
   "source": [
    "a = 15\n",
    "b = 18"
   ]
  },
  {
   "cell_type": "code",
   "execution_count": 248,
   "id": "f31c039f",
   "metadata": {},
   "outputs": [
    {
     "name": "stdout",
     "output_type": "stream",
     "text": [
      "Pug: 15, Bulldog: 18\n"
     ]
    }
   ],
   "source": [
    "print('Pug: %s, Bulldog: %s' % (a, b))"
   ]
  },
  {
   "cell_type": "code",
   "execution_count": null,
   "id": "04017923",
   "metadata": {},
   "outputs": [],
   "source": []
  },
  {
   "cell_type": "markdown",
   "id": "ef122619",
   "metadata": {},
   "source": [
    "# global vs local"
   ]
  },
  {
   "cell_type": "code",
   "execution_count": 268,
   "id": "ed61cbfa",
   "metadata": {},
   "outputs": [
    {
     "name": "stdout",
     "output_type": "stream",
     "text": [
      "3\n"
     ]
    }
   ],
   "source": [
    "num = 5\n",
    "\n",
    "def func1():\n",
    "    num = 3\n",
    "    print(num)\n",
    "func1()"
   ]
  },
  {
   "cell_type": "code",
   "execution_count": 269,
   "id": "5c5dd0f4",
   "metadata": {},
   "outputs": [
    {
     "name": "stdout",
     "output_type": "stream",
     "text": [
      "10\n"
     ]
    }
   ],
   "source": [
    "def func2():\n",
    "    global num\n",
    "    double_num = num * 2\n",
    "    num = 6\n",
    "    print(double_num)\n",
    "func2()"
   ]
  },
  {
   "cell_type": "code",
   "execution_count": null,
   "id": "3dc3a641",
   "metadata": {},
   "outputs": [],
   "source": []
  },
  {
   "cell_type": "code",
   "execution_count": 276,
   "id": "9797446b",
   "metadata": {},
   "outputs": [
    {
     "name": "stdout",
     "output_type": "stream",
     "text": [
      "what is that\n"
     ]
    }
   ],
   "source": [
    "team = 'what is that'\n",
    "def change_team():\n",
    "    global team\n",
    "    team = 'not this'\n",
    "    print(team)\n",
    "    \n",
    "print(team)"
   ]
  },
  {
   "cell_type": "code",
   "execution_count": 277,
   "id": "29f35db1",
   "metadata": {},
   "outputs": [
    {
     "name": "stdout",
     "output_type": "stream",
     "text": [
      "not this\n"
     ]
    }
   ],
   "source": [
    "change_team()"
   ]
  },
  {
   "cell_type": "code",
   "execution_count": null,
   "id": "fd88e03b",
   "metadata": {},
   "outputs": [],
   "source": []
  },
  {
   "cell_type": "code",
   "execution_count": 280,
   "id": "e8b999f5",
   "metadata": {},
   "outputs": [
    {
     "name": "stdout",
     "output_type": "stream",
     "text": [
      "John\n"
     ]
    }
   ],
   "source": [
    "def myfunc1():\n",
    "    x = \"John\"\n",
    "    def myfunc2():\n",
    "        global x      # call global x\n",
    "        x = \"hello\"\n",
    "    myfunc2() \n",
    "    return x\n",
    "\n",
    "print(myfunc1())"
   ]
  },
  {
   "cell_type": "code",
   "execution_count": 281,
   "id": "33f0efe4",
   "metadata": {},
   "outputs": [
    {
     "name": "stdout",
     "output_type": "stream",
     "text": [
      "hello\n"
     ]
    }
   ],
   "source": [
    "def myfunc1():\n",
    "    x = \"John\"\n",
    "    def myfunc2():\n",
    "        nonlocal x    # x is not local\n",
    "        x = \"hello\"\n",
    "    myfunc2() \n",
    "    return x\n",
    "\n",
    "print(myfunc1())"
   ]
  },
  {
   "cell_type": "code",
   "execution_count": 282,
   "id": "334899b1",
   "metadata": {},
   "outputs": [
    {
     "name": "stdout",
     "output_type": "stream",
     "text": [
      "John\n"
     ]
    }
   ],
   "source": [
    "def myfunc1():\n",
    "    x = \"John\"\n",
    "    def myfunc2():\n",
    "        x = \"hello\"\n",
    "    myfunc2() \n",
    "    return x\n",
    "\n",
    "print(myfunc1())"
   ]
  },
  {
   "cell_type": "code",
   "execution_count": null,
   "id": "ba9af951",
   "metadata": {},
   "outputs": [],
   "source": []
  },
  {
   "cell_type": "code",
   "execution_count": 283,
   "id": "99937f24",
   "metadata": {},
   "outputs": [],
   "source": [
    "# pass in all values: *\n",
    "def add_all(*args):\n",
    "    # initialize sum\n",
    "    sum_all = 0\n",
    "    # accumulate sum\n",
    "    for num in args:\n",
    "        sum_all += num\n",
    "        \n",
    "    return sum_all"
   ]
  },
  {
   "cell_type": "code",
   "execution_count": 284,
   "id": "a26d4783",
   "metadata": {},
   "outputs": [
    {
     "data": {
      "text/plain": [
       "10"
      ]
     },
     "execution_count": 284,
     "metadata": {},
     "output_type": "execute_result"
    }
   ],
   "source": [
    "add_all(1,2,3,4)"
   ]
  },
  {
   "cell_type": "code",
   "execution_count": null,
   "id": "ac36362c",
   "metadata": {},
   "outputs": [],
   "source": []
  },
  {
   "cell_type": "markdown",
   "id": "c9c13874",
   "metadata": {},
   "source": [
    "# lambda"
   ]
  },
  {
   "cell_type": "code",
   "execution_count": 285,
   "id": "ab90c4be",
   "metadata": {},
   "outputs": [
    {
     "name": "stdout",
     "output_type": "stream",
     "text": [
      "<map object at 0x13554db10>\n"
     ]
    }
   ],
   "source": [
    "# using map method\n",
    "# iterated through each element of the iterable (in this case, the nums list)\n",
    "# and applied the cube function on it.\n",
    "nums = [48, 6, 9, 21, 1]\n",
    "square_all = map(lambda num: num ** 2, nums)\n",
    "print(square_all)"
   ]
  },
  {
   "cell_type": "code",
   "execution_count": 286,
   "id": "96229e25",
   "metadata": {},
   "outputs": [
    {
     "name": "stdout",
     "output_type": "stream",
     "text": [
      "[2304, 36, 81, 441, 1]\n"
     ]
    }
   ],
   "source": [
    "# print the list to show lambda object\n",
    "print(list(square_all))"
   ]
  },
  {
   "cell_type": "code",
   "execution_count": 287,
   "id": "a52f111a",
   "metadata": {},
   "outputs": [
    {
     "data": {
      "text/plain": [
       "[2304, 36, 81, 441, 1]"
      ]
     },
     "execution_count": 287,
     "metadata": {},
     "output_type": "execute_result"
    }
   ],
   "source": [
    "# same using list comprehension\n",
    "[n ** 2 for n in nums]"
   ]
  },
  {
   "cell_type": "code",
   "execution_count": null,
   "id": "2015a4da",
   "metadata": {},
   "outputs": [],
   "source": []
  },
  {
   "cell_type": "code",
   "execution_count": 294,
   "id": "cd257bfe",
   "metadata": {},
   "outputs": [
    {
     "name": "stdout",
     "output_type": "stream",
     "text": [
      "['protego!!!', 'accio!!!', 'expecto patronum!!!', 'legilimens!!!']\n",
      "\n",
      "\n",
      "['protego!!!', 'accio!!!', 'expecto patronum!!!', 'legilimens!!!']\n"
     ]
    }
   ],
   "source": [
    "spells = [\"protego\", \"accio\", \"expecto patronum\", \"legilimens\"]\n",
    "# use list comprehension\n",
    "print([item + '!!!' for item in spells])\n",
    "print('\\n')\n",
    "# use lambda and map() method\n",
    "print(list(map(lambda item: item + '!!!', spells)))"
   ]
  },
  {
   "cell_type": "code",
   "execution_count": 299,
   "id": "296ffff1",
   "metadata": {},
   "outputs": [
    {
     "name": "stdout",
     "output_type": "stream",
     "text": [
      "['expecto patronum', 'legilimens']\n",
      "\n",
      "\n",
      "['expecto patronum', 'legilimens']\n"
     ]
    }
   ],
   "source": [
    "# Filter() method\n",
    "# check if length of elements in the list is greater than 7\n",
    "spells = [\"protego\", \"accio\", \"expecto patronum\", \"legilimens\"]\n",
    "greater = filter(lambda ele: len(ele) > 7, spells)\n",
    "print(list(greater))\n",
    "print('\\n')\n",
    "# use list comprehension\n",
    "print([ele for ele in spells if len(ele) > 7])"
   ]
  },
  {
   "cell_type": "code",
   "execution_count": 314,
   "id": "659ccde8",
   "metadata": {},
   "outputs": [
    {
     "name": "stdout",
     "output_type": "stream",
     "text": [
      "protegoaccioexpecto patronumlegilimenslalalappqppqpqqleoleo\n",
      "\n",
      "\n",
      "protegoaccioexpecto patronumlegilimenslalalappqppqpqqleoleo\n"
     ]
    }
   ],
   "source": [
    "# reduce() method\n",
    "# combine elements\n",
    "spells = [\"protego\", \"accio\", \"expecto patronum\", \n",
    "          \"legilimens\", \"lalala\", 'ppqppqpqq','leoleo']\n",
    "from functools import reduce\n",
    "combine = reduce(lambda ele1, ele2: ele1 + ele2, spells)\n",
    "print(combine)\n",
    "\n",
    "print('\\n')\n",
    "\n",
    "# use join method\n",
    "print(''.join(spells))\n",
    "\n"
   ]
  },
  {
   "cell_type": "code",
   "execution_count": null,
   "id": "13a04cf7",
   "metadata": {},
   "outputs": [],
   "source": []
  },
  {
   "cell_type": "markdown",
   "id": "da0b5909",
   "metadata": {},
   "source": [
    "# exception, raise error"
   ]
  },
  {
   "cell_type": "code",
   "execution_count": null,
   "id": "843b9180",
   "metadata": {},
   "outputs": [],
   "source": [
    "# Raise error"
   ]
  },
  {
   "cell_type": "code",
   "execution_count": 325,
   "id": "3dd71216",
   "metadata": {},
   "outputs": [
    {
     "ename": "ValueError",
     "evalue": "echo must be integer and greater than 1",
     "output_type": "error",
     "traceback": [
      "\u001b[0;31m---------------------------------------------------------------------------\u001b[0m",
      "\u001b[0;31mValueError\u001b[0m                                Traceback (most recent call last)",
      "Input \u001b[0;32mIn [325]\u001b[0m, in \u001b[0;36m<cell line: 12>\u001b[0;34m()\u001b[0m\n\u001b[1;32m      8\u001b[0m     shout_word \u001b[38;5;241m=\u001b[39m echo_word \u001b[38;5;241m+\u001b[39m \u001b[38;5;124m'\u001b[39m\u001b[38;5;124m!!!\u001b[39m\u001b[38;5;124m'\u001b[39m\n\u001b[1;32m     10\u001b[0m     \u001b[38;5;28;01mreturn\u001b[39;00m shout_word\n\u001b[0;32m---> 12\u001b[0m \u001b[38;5;28mprint\u001b[39m(\u001b[43mshout\u001b[49m\u001b[43m(\u001b[49m\u001b[38;5;124;43m'\u001b[39;49m\u001b[38;5;124;43mpractice\u001b[39;49m\u001b[38;5;124;43m'\u001b[39;49m\u001b[43m,\u001b[49m\u001b[43m \u001b[49m\u001b[43mecho\u001b[49m\u001b[43m \u001b[49m\u001b[38;5;241;43m=\u001b[39;49m\u001b[43m \u001b[49m\u001b[38;5;241;43m-\u001b[39;49m\u001b[38;5;241;43m1\u001b[39;49m\u001b[43m)\u001b[49m)\n",
      "Input \u001b[0;32mIn [325]\u001b[0m, in \u001b[0;36mshout\u001b[0;34m(word, echo)\u001b[0m\n\u001b[1;32m      1\u001b[0m \u001b[38;5;28;01mdef\u001b[39;00m \u001b[38;5;21mshout\u001b[39m(word, echo \u001b[38;5;241m=\u001b[39m \u001b[38;5;241m1\u001b[39m):\n\u001b[1;32m      2\u001b[0m     \u001b[38;5;28;01mif\u001b[39;00m echo \u001b[38;5;241m<\u001b[39m \u001b[38;5;241m0\u001b[39m:\n\u001b[1;32m      3\u001b[0m         \u001b[38;5;66;03m# raise an ValueError\u001b[39;00m\n\u001b[0;32m----> 4\u001b[0m         \u001b[38;5;28;01mraise\u001b[39;00m \u001b[38;5;167;01mValueError\u001b[39;00m(\u001b[38;5;124m'\u001b[39m\u001b[38;5;124mecho must be integer and greater than 1\u001b[39m\u001b[38;5;124m'\u001b[39m)\n\u001b[1;32m      5\u001b[0m     \u001b[38;5;66;03m# echo times of the word\u001b[39;00m\n\u001b[1;32m      6\u001b[0m     echo_word \u001b[38;5;241m=\u001b[39m word \u001b[38;5;241m*\u001b[39m echo\n",
      "\u001b[0;31mValueError\u001b[0m: echo must be integer and greater than 1"
     ]
    }
   ],
   "source": [
    "def shout(word, echo = 1):\n",
    "    if echo < 0:\n",
    "        # raise an ValueError\n",
    "        raise ValueError('echo must be integer and greater than 1')\n",
    "    # echo times of the word\n",
    "    echo_word = word * echo\n",
    "    # concatenante '!!!' to the word\n",
    "    shout_word = echo_word + '!!!'\n",
    "    \n",
    "    return shout_word\n",
    "# see if echo = -1\n",
    "print(shout('practice', echo = -1))"
   ]
  },
  {
   "cell_type": "code",
   "execution_count": 326,
   "id": "e055af2d",
   "metadata": {},
   "outputs": [
    {
     "name": "stdout",
     "output_type": "stream",
     "text": [
      "practicepracticepractice!!!\n"
     ]
    }
   ],
   "source": [
    "# when echo = 3\n",
    "print(shout('practice', echo = 3))"
   ]
  },
  {
   "cell_type": "code",
   "execution_count": null,
   "id": "d32ca837",
   "metadata": {},
   "outputs": [],
   "source": [
    "# Exceptions"
   ]
  },
  {
   "cell_type": "code",
   "execution_count": 327,
   "id": "fa860e11",
   "metadata": {},
   "outputs": [
    {
     "data": {
      "text/plain": [
       "2.0"
      ]
     },
     "execution_count": 327,
     "metadata": {},
     "output_type": "execute_result"
    }
   ],
   "source": [
    "def sqrt(x):\n",
    "    # if correct, do this:\n",
    "    try:\n",
    "        return x ** 0.5\n",
    "    # if not, print the following:\n",
    "    except:\n",
    "        print('x must be an int or float')\n",
    "\n",
    "sqrt(4)"
   ]
  },
  {
   "cell_type": "code",
   "execution_count": 329,
   "id": "4b718475",
   "metadata": {},
   "outputs": [
    {
     "name": "stdout",
     "output_type": "stream",
     "text": [
      "x must be an int or float\n"
     ]
    }
   ],
   "source": [
    "sqrt('hi')"
   ]
  },
  {
   "cell_type": "code",
   "execution_count": null,
   "id": "f8f493f9",
   "metadata": {},
   "outputs": [],
   "source": []
  },
  {
   "cell_type": "code",
   "execution_count": 330,
   "id": "d2d1409d",
   "metadata": {},
   "outputs": [],
   "source": [
    "# Raise error + Exceptions"
   ]
  },
  {
   "cell_type": "code",
   "execution_count": 339,
   "id": "be760e37",
   "metadata": {},
   "outputs": [],
   "source": [
    "def sq(y):\n",
    "    if y < 0:\n",
    "        raise ValueError('y must be non-negative')\n",
    "    try:\n",
    "        return y ** 0.5\n",
    "    except TypeError:\n",
    "        print('y must be an int or float')"
   ]
  },
  {
   "cell_type": "code",
   "execution_count": 340,
   "id": "74341aaf",
   "metadata": {},
   "outputs": [
    {
     "data": {
      "text/plain": [
       "2.23606797749979"
      ]
     },
     "execution_count": 340,
     "metadata": {},
     "output_type": "execute_result"
    }
   ],
   "source": [
    "sq(5)"
   ]
  },
  {
   "cell_type": "code",
   "execution_count": 341,
   "id": "3ca44c0f",
   "metadata": {},
   "outputs": [
    {
     "ename": "ValueError",
     "evalue": "y must be non-negative",
     "output_type": "error",
     "traceback": [
      "\u001b[0;31m---------------------------------------------------------------------------\u001b[0m",
      "\u001b[0;31mValueError\u001b[0m                                Traceback (most recent call last)",
      "Input \u001b[0;32mIn [341]\u001b[0m, in \u001b[0;36m<cell line: 1>\u001b[0;34m()\u001b[0m\n\u001b[0;32m----> 1\u001b[0m \u001b[43msq\u001b[49m\u001b[43m(\u001b[49m\u001b[38;5;241;43m-\u001b[39;49m\u001b[38;5;241;43m1\u001b[39;49m\u001b[43m)\u001b[49m\n",
      "Input \u001b[0;32mIn [339]\u001b[0m, in \u001b[0;36msq\u001b[0;34m(y)\u001b[0m\n\u001b[1;32m      1\u001b[0m \u001b[38;5;28;01mdef\u001b[39;00m \u001b[38;5;21msq\u001b[39m(y):\n\u001b[1;32m      2\u001b[0m     \u001b[38;5;28;01mif\u001b[39;00m y \u001b[38;5;241m<\u001b[39m \u001b[38;5;241m0\u001b[39m:\n\u001b[0;32m----> 3\u001b[0m         \u001b[38;5;28;01mraise\u001b[39;00m \u001b[38;5;167;01mValueError\u001b[39;00m(\u001b[38;5;124m'\u001b[39m\u001b[38;5;124my must be non-negative\u001b[39m\u001b[38;5;124m'\u001b[39m)\n\u001b[1;32m      4\u001b[0m     \u001b[38;5;28;01mtry\u001b[39;00m:\n\u001b[1;32m      5\u001b[0m         \u001b[38;5;28;01mreturn\u001b[39;00m y \u001b[38;5;241m*\u001b[39m\u001b[38;5;241m*\u001b[39m \u001b[38;5;241m0.5\u001b[39m\n",
      "\u001b[0;31mValueError\u001b[0m: y must be non-negative"
     ]
    }
   ],
   "source": [
    "sq(-1)"
   ]
  },
  {
   "cell_type": "code",
   "execution_count": 344,
   "id": "db709e54",
   "metadata": {},
   "outputs": [
    {
     "ename": "TypeError",
     "evalue": "'<' not supported between instances of 'str' and 'int'",
     "output_type": "error",
     "traceback": [
      "\u001b[0;31m---------------------------------------------------------------------------\u001b[0m",
      "\u001b[0;31mTypeError\u001b[0m                                 Traceback (most recent call last)",
      "Input \u001b[0;32mIn [344]\u001b[0m, in \u001b[0;36m<cell line: 1>\u001b[0;34m()\u001b[0m\n\u001b[0;32m----> 1\u001b[0m \u001b[43msq\u001b[49m\u001b[43m(\u001b[49m\u001b[38;5;124;43m'\u001b[39;49m\u001b[38;5;124;43mhi\u001b[39;49m\u001b[38;5;124;43m'\u001b[39;49m\u001b[43m)\u001b[49m\n",
      "Input \u001b[0;32mIn [339]\u001b[0m, in \u001b[0;36msq\u001b[0;34m(y)\u001b[0m\n\u001b[1;32m      1\u001b[0m \u001b[38;5;28;01mdef\u001b[39;00m \u001b[38;5;21msq\u001b[39m(y):\n\u001b[0;32m----> 2\u001b[0m     \u001b[38;5;28;01mif\u001b[39;00m \u001b[43my\u001b[49m\u001b[43m \u001b[49m\u001b[38;5;241;43m<\u001b[39;49m\u001b[43m \u001b[49m\u001b[38;5;241;43m0\u001b[39;49m:\n\u001b[1;32m      3\u001b[0m         \u001b[38;5;28;01mraise\u001b[39;00m \u001b[38;5;167;01mValueError\u001b[39;00m(\u001b[38;5;124m'\u001b[39m\u001b[38;5;124my must be non-negative\u001b[39m\u001b[38;5;124m'\u001b[39m)\n\u001b[1;32m      4\u001b[0m     \u001b[38;5;28;01mtry\u001b[39;00m:\n",
      "\u001b[0;31mTypeError\u001b[0m: '<' not supported between instances of 'str' and 'int'"
     ]
    }
   ],
   "source": [
    "sq('hi')"
   ]
  },
  {
   "cell_type": "code",
   "execution_count": null,
   "id": "9f9240d7",
   "metadata": {},
   "outputs": [],
   "source": []
  },
  {
   "cell_type": "code",
   "execution_count": 350,
   "id": "9bc6f3c7",
   "metadata": {},
   "outputs": [
    {
     "data": {
      "text/plain": [
       "['ani', 'hor']"
      ]
     },
     "execution_count": 350,
     "metadata": {},
     "output_type": "execute_result"
    }
   ],
   "source": [
    "# remove ele and add a comma in btw\n",
    "# .split() method\n",
    "s = 'ani-hor'\n",
    "s.split('-')"
   ]
  },
  {
   "cell_type": "code",
   "execution_count": 351,
   "id": "2852a5e6",
   "metadata": {},
   "outputs": [
    {
     "data": {
      "text/plain": [
       "['ani-', 'or']"
      ]
     },
     "execution_count": 351,
     "metadata": {},
     "output_type": "execute_result"
    }
   ],
   "source": [
    "s.split('h')"
   ]
  },
  {
   "cell_type": "code",
   "execution_count": 352,
   "id": "b3941fcd",
   "metadata": {},
   "outputs": [
    {
     "data": {
      "text/plain": [
       "['ani-', 'or']"
      ]
     },
     "execution_count": 352,
     "metadata": {},
     "output_type": "execute_result"
    }
   ],
   "source": [
    "s.split(s[4])"
   ]
  },
  {
   "cell_type": "code",
   "execution_count": null,
   "id": "98443eb6",
   "metadata": {},
   "outputs": [],
   "source": []
  },
  {
   "cell_type": "code",
   "execution_count": null,
   "id": "bf6e219b",
   "metadata": {},
   "outputs": [],
   "source": []
  }
 ],
 "metadata": {
  "kernelspec": {
   "display_name": "Python 3 (ipykernel)",
   "language": "python",
   "name": "python3"
  },
  "language_info": {
   "codemirror_mode": {
    "name": "ipython",
    "version": 3
   },
   "file_extension": ".py",
   "mimetype": "text/x-python",
   "name": "python",
   "nbconvert_exporter": "python",
   "pygments_lexer": "ipython3",
   "version": "3.10.0"
  }
 },
 "nbformat": 4,
 "nbformat_minor": 5
}
