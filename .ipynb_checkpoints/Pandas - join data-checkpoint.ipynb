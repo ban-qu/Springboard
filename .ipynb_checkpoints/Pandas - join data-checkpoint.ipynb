{
 "cells": [
  {
   "cell_type": "markdown",
   "id": "eda5cfde",
   "metadata": {},
   "source": [
    "# Pandas - Join Data"
   ]
  },
  {
   "cell_type": "markdown",
   "id": "21c38ae8",
   "metadata": {},
   "source": [
    "## 1. Inner join - match values in both tables"
   ]
  },
  {
   "cell_type": "code",
   "execution_count": 1,
   "id": "71ad59fa",
   "metadata": {},
   "outputs": [],
   "source": [
    "# df1.merge(df2, on = 'col')  -> inner join on column\n",
    "# df1.merge(df2, on = 'col', suffixes=('_df1','_df2')) -> rename the columns that have same name"
   ]
  },
  {
   "cell_type": "markdown",
   "id": "fd8f05a7",
   "metadata": {},
   "source": [
    "## 2. One to many"
   ]
  },
  {
   "cell_type": "code",
   "execution_count": 2,
   "id": "0ef850d7",
   "metadata": {},
   "outputs": [],
   "source": [
    "# every row in left table is related to \n",
    "# one or more rows in right table"
   ]
  },
  {
   "cell_type": "markdown",
   "id": "6071bf9a",
   "metadata": {},
   "source": [
    "## 3. Mergeing multiple tables"
   ]
  },
  {
   "cell_type": "code",
   "execution_count": 4,
   "id": "df060a5e",
   "metadata": {},
   "outputs": [],
   "source": [
    "# merge two tables by 2 columns:\n",
    "# df1.merge(df2, on=['col1','col2'])\n",
    "# merge 3 tables:\n",
    "# df1.merge(df2,on=['col1','col2'])\\.merge(df3,on='col3',suffixes=('_sf1','_sf2'))"
   ]
  },
  {
   "cell_type": "markdown",
   "id": "da54321a",
   "metadata": {},
   "source": [
    "## 4. Left join"
   ]
  },
  {
   "cell_type": "code",
   "execution_count": 6,
   "id": "4c4a8196",
   "metadata": {},
   "outputs": [],
   "source": [
    "# columns from right attached to left if left has it in common columns"
   ]
  },
  {
   "cell_type": "code",
   "execution_count": 7,
   "id": "9ff7a693",
   "metadata": {},
   "outputs": [],
   "source": [
    "# d1.merge(df2,on='col',how='left')"
   ]
  },
  {
   "cell_type": "code",
   "execution_count": null,
   "id": "0d1dd0ab",
   "metadata": {},
   "outputs": [],
   "source": []
  },
  {
   "cell_type": "code",
   "execution_count": 8,
   "id": "2a7b2285",
   "metadata": {},
   "outputs": [],
   "source": [
    "# df1['col'].isnull().sum() -> count number of missing values in col"
   ]
  },
  {
   "cell_type": "code",
   "execution_count": null,
   "id": "3b98be1f",
   "metadata": {},
   "outputs": [],
   "source": []
  },
  {
   "cell_type": "markdown",
   "id": "d05bd0e0",
   "metadata": {},
   "source": [
    "## 5. Other join"
   ]
  },
  {
   "cell_type": "code",
   "execution_count": 9,
   "id": "7e6916e4",
   "metadata": {},
   "outputs": [],
   "source": [
    "# Right Join\n",
    "# columns from right attached to right with common column but differnt names"
   ]
  },
  {
   "cell_type": "code",
   "execution_count": 10,
   "id": "77c65b92",
   "metadata": {},
   "outputs": [],
   "source": [
    "# df1.merge(df2,how='right',left_on='col1',right_on='col2')"
   ]
  },
  {
   "cell_type": "code",
   "execution_count": 11,
   "id": "b20c4da1",
   "metadata": {},
   "outputs": [],
   "source": [
    "# Outer Join\n",
    "# combine all columns from both tables"
   ]
  },
  {
   "cell_type": "code",
   "execution_count": 16,
   "id": "bc87db51",
   "metadata": {},
   "outputs": [],
   "source": [
    "# df1.merge(df2,on='col',how='outer',suffixes=('_left','_right'))"
   ]
  },
  {
   "cell_type": "markdown",
   "id": "b311ede9",
   "metadata": {},
   "source": [
    "## 6. Self join"
   ]
  },
  {
   "cell_type": "code",
   "execution_count": 13,
   "id": "eaf2bb5a",
   "metadata": {},
   "outputs": [],
   "source": [
    "# df.merge(df,left_on='col',right_on='col2',suffixes=('_suf1','_suf2')"
   ]
  },
  {
   "cell_type": "markdown",
   "id": "b728b5fb",
   "metadata": {},
   "source": [
    "## 7. Merge on indexes"
   ]
  },
  {
   "cell_type": "code",
   "execution_count": 14,
   "id": "3efcd9ce",
   "metadata": {},
   "outputs": [],
   "source": [
    "# merge on index column(s)\n",
    "# df1.merge(df2,....left_index=True,right_index=True)"
   ]
  },
  {
   "cell_type": "code",
   "execution_count": null,
   "id": "232c0aa7",
   "metadata": {},
   "outputs": [],
   "source": []
  },
  {
   "cell_type": "markdown",
   "id": "557d2b3a",
   "metadata": {},
   "source": [
    "## Advanced Merge"
   ]
  },
  {
   "cell_type": "markdown",
   "id": "4a7378bd",
   "metadata": {},
   "source": [
    "## 1. Semi Join"
   ]
  },
  {
   "cell_type": "code",
   "execution_count": 17,
   "id": "ba8d9fe3",
   "metadata": {},
   "outputs": [],
   "source": [
    "# inner join, but only columns from left table is shown"
   ]
  },
  {
   "cell_type": "code",
   "execution_count": 18,
   "id": "f0ff4575",
   "metadata": {},
   "outputs": [],
   "source": [
    "# Step 1:\n",
    "# inner_join = df1.merge(df2,on='col')\n",
    "# Step 2:\n",
    "# semi_join = df1[df1['col'].isin(inner_join['col'])]"
   ]
  },
  {
   "cell_type": "markdown",
   "id": "09700b36",
   "metadata": {},
   "source": [
    "## 2. Anti join"
   ]
  },
  {
   "cell_type": "code",
   "execution_count": 19,
   "id": "a936300b",
   "metadata": {},
   "outputs": [],
   "source": [
    "# left table without interactions\n",
    "# left table columns only"
   ]
  },
  {
   "cell_type": "code",
   "execution_count": 20,
   "id": "df5de0da",
   "metadata": {},
   "outputs": [],
   "source": [
    "# Step 1:\n",
    "# left_join.merge(df2,on='col',how='left',indicator=True) -> indicator will show how two columns merge\n",
    "# Step 2:\n",
    "# b = left_join.loc[left_join['_merge']=='left only','col']\n",
    "# anti_join = df1[df1['col'].isin(b)]"
   ]
  },
  {
   "cell_type": "markdown",
   "id": "e6b98b1c",
   "metadata": {},
   "source": [
    "## 3. Concatenate tables vertically"
   ]
  },
  {
   "cell_type": "code",
   "execution_count": 21,
   "id": "94c4eb3f",
   "metadata": {},
   "outputs": [],
   "source": [
    "# tables have same column names\n",
    "# pd.concat([df1,df2,df3], ignore_index=True) -> index go from 0 to n-1\n",
    "# pd.concat([df1,df2,df3],keys=['key1','key2','key3']) -> concat based on keys"
   ]
  },
  {
   "cell_type": "code",
   "execution_count": 22,
   "id": "581e9410",
   "metadata": {},
   "outputs": [],
   "source": [
    "# table have different columns\n",
    "# pd.concat([df1,df2],sort=True) -> combine based on sort of columns (alphabatically)\n",
    "# pd.concat([df1,df2],join='inner') -> join only same name columns"
   ]
  },
  {
   "cell_type": "code",
   "execution_count": null,
   "id": "d70577b4",
   "metadata": {},
   "outputs": [],
   "source": [
    "# default: join=outer"
   ]
  },
  {
   "cell_type": "code",
   "execution_count": 23,
   "id": "e85044e1",
   "metadata": {},
   "outputs": [],
   "source": [
    "# append method (does not support keys and join)\n",
    "# by default: join=outer\n",
    "# df1.append([df2,df3],ignore_index=True,sort=True)"
   ]
  },
  {
   "cell_type": "markdown",
   "id": "904f3034",
   "metadata": {},
   "source": [
    "## Verify the relationship"
   ]
  },
  {
   "cell_type": "code",
   "execution_count": 24,
   "id": "be1bee68",
   "metadata": {},
   "outputs": [],
   "source": [
    "# to make sure it is correct join relationship"
   ]
  },
  {
   "cell_type": "code",
   "execution_count": 26,
   "id": "34e0e307",
   "metadata": {},
   "outputs": [],
   "source": [
    "# for merging:\n",
    "# df1.merge(df2,on='col',validate='one_to_one') -> check if one-to-one\n",
    "# df1.merge(df2,on='col',validate='one_to_many') -> check if one-to-many"
   ]
  },
  {
   "cell_type": "code",
   "execution_count": 27,
   "id": "76fb11ae",
   "metadata": {},
   "outputs": [],
   "source": [
    "# for concat:\n",
    "# pd.concat([df1,df2],verify_integrity=True) -> error if duplicate occurs"
   ]
  },
  {
   "cell_type": "markdown",
   "id": "dca9bc8c",
   "metadata": {},
   "source": [
    "## 4. Merge in order"
   ]
  },
  {
   "cell_type": "code",
   "execution_count": null,
   "id": "cf1dfc36",
   "metadata": {},
   "outputs": [],
   "source": [
    "# use when:\n",
    "# 1.ordered data/time series\n",
    "# 2.fill in missing values"
   ]
  },
  {
   "cell_type": "code",
   "execution_count": 28,
   "id": "ae5ae896",
   "metadata": {},
   "outputs": [],
   "source": [
    "# default join is outer (remember the default for merge is inner)"
   ]
  },
  {
   "cell_type": "code",
   "execution_count": 29,
   "id": "82ebba0b",
   "metadata": {},
   "outputs": [],
   "source": [
    "# pd.merge_ordered(df1,df2)"
   ]
  },
  {
   "cell_type": "code",
   "execution_count": 30,
   "id": "1758c8a1",
   "metadata": {},
   "outputs": [],
   "source": [
    "# Foward fill: fill missing values with previous value\n",
    "# ....(.., fill_method='ffill')"
   ]
  },
  {
   "cell_type": "code",
   "execution_count": null,
   "id": "8808a0dd",
   "metadata": {},
   "outputs": [],
   "source": []
  },
  {
   "cell_type": "code",
   "execution_count": 31,
   "id": "95c26794",
   "metadata": {},
   "outputs": [],
   "source": [
    "# df.corr() -> show correlation matrix of two variables"
   ]
  },
  {
   "cell_type": "markdown",
   "id": "1e9dcec3",
   "metadata": {},
   "source": [
    "## 5. Merge_asof()"
   ]
  },
  {
   "cell_type": "code",
   "execution_count": null,
   "id": "3f72bdd8",
   "metadata": {},
   "outputs": [],
   "source": [
    "# when to use:\n",
    "# 1.data sampled from a process\n",
    "# 2.devolep a training set(do not want data lekage)"
   ]
  },
  {
   "cell_type": "code",
   "execution_count": null,
   "id": "213422ff",
   "metadata": {},
   "outputs": [],
   "source": [
    "# similar to merge_ordered()\n",
    "# but always left join\n",
    "# match the nearest key column, not exact matches"
   ]
  },
  {
   "cell_type": "code",
   "execution_count": 33,
   "id": "f5282853",
   "metadata": {},
   "outputs": [],
   "source": [
    "# pd.merge_asof(df1,df2,on='col',direction='forward') -> greater than or equal to the nearest key column\n",
    "# pd.merge_asof(df1,df2,on='col') - > default direction is backward: less than\n",
    "# pd.merge_asof(df1,df2,on='col',direction='nearest') -> regardless of less or greater"
   ]
  },
  {
   "cell_type": "markdown",
   "id": "30002be4",
   "metadata": {},
   "source": [
    "## 6. .query()method"
   ]
  },
  {
   "cell_type": "code",
   "execution_count": 34,
   "id": "97aec693",
   "metadata": {},
   "outputs": [],
   "source": [
    "# similar to SQL's where clause"
   ]
  },
  {
   "cell_type": "code",
   "execution_count": 35,
   "id": "44b22ca4",
   "metadata": {},
   "outputs": [],
   "source": [
    "# df.query('col2 > 90') -> returns all rows where col2 > 90\n",
    "# df.query('col2 > 90 and col1 < 60')\n",
    "# df.query('col1 > 80 or col1 < 90')\n",
    "# df.query('col1==\"abc\" or (col1==\"cba\" and col2 < 80)')"
   ]
  },
  {
   "cell_type": "markdown",
   "id": "9bb123dd",
   "metadata": {},
   "source": [
    "## 7. melt() method"
   ]
  },
  {
   "cell_type": "code",
   "execution_count": 36,
   "id": "a1476386",
   "metadata": {},
   "outputs": [],
   "source": [
    "# change wide table to long table\n",
    "# i.e., some columns become attributes\n",
    "# to be more computer-friendly"
   ]
  },
  {
   "cell_type": "code",
   "execution_count": null,
   "id": "ebb4f1dd",
   "metadata": {},
   "outputs": [],
   "source": [
    "# df.melt(id_vars=['col1','col2']) -> columns do not want to change\n",
    "# df.melt(id_vars=['col1','col2'],value_vars=['col3','col4']) -> to contain only col3 and col4 as changed columns\n",
    "\n",
    "# df.melt(id_vars=['col1','col2'],value_vars=['col3','col4'],var_name=['changed_column_name',value_name='value_name']) -> add new column names\n"
   ]
  }
 ],
 "metadata": {
  "kernelspec": {
   "display_name": "Python 3 (ipykernel)",
   "language": "python",
   "name": "python3"
  },
  "language_info": {
   "codemirror_mode": {
    "name": "ipython",
    "version": 3
   },
   "file_extension": ".py",
   "mimetype": "text/x-python",
   "name": "python",
   "nbconvert_exporter": "python",
   "pygments_lexer": "ipython3",
   "version": "3.10.0"
  }
 },
 "nbformat": 4,
 "nbformat_minor": 5
}
